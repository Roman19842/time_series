{
 "cells": [
  {
   "cell_type": "markdown",
   "id": "5d49bfd7",
   "metadata": {},
   "source": [
    "<div style=\"border:solid green 2px; padding: 20px\">\n",
    "Роман, привет и хорошего дня! <br>\n",
    "Меня зовут Сергей Дроздов, и я буду проверять твой проект. Предлагаю общаться на «ты». Если тебе удобнее общаться на \"Вы\", просто дай знать. \n",
    "\n",
    "Ты уже проделал большую работу над проектом, но давай сделаем его еще лучше. Ниже ты найдешь мои комментарии - пожалуйста, не перемещай, не изменяй и не удаляй их. Я буду использовать цветовую разметку:\n",
    "\n",
    "<div class=\"alert alert-danger\">\n",
    "<b>Комментарий ревьюера: &#10060; </b> Так будут выделены комментарии с указаниями, обязательными к выполнению. Без их выполнения проект не будет принят. </div>\n",
    "\n",
    "<div class=\"alert alert-warning\">\n",
    "<b>Комментарий ревьюера:\n",
    "&#9888;</b> Так будут выделены некритичные замечания. Одно-два таких замечания в проекте допустимы, но если их будет больше - тебе будет необходимо внести исправления. Однако, если перед нами стоит цель не просто сдать проект и забыть его, как страшный сон, а приобрести новые знания и успешно применять их в будущем, я бы всё-таки рекомендовал тебе прорабатывать эти недочёты.\n",
    "</div>\n",
    "\n",
    "<div class=\"alert alert-success\">\n",
    "<b>Комментарий ревьюера:\n",
    "&#9989;</b> Так будут выделены остальные комментарии, полезные лайфхаки и ссылки на сторонние ресурсы </div>\n",
    "\n",
    "Для наиболее эффективной и оперативной работы над проектом, мне хотелось бы иметь обратную связь. Не стесняйся задавать вопросы. Если ты что-либо меняешь в проекте, пожалуйста, комментируй это. Мне будет легче отследить изменения, если ты выделишь свои комментарии:\n",
    "<div class=\"alert alert-info\"> <b>Комментарий студента:</b> Например так</div>"
   ]
  },
  {
   "cell_type": "markdown",
   "id": "fae88c06",
   "metadata": {
    "ExecuteTime": {
     "end_time": "2022-06-25T16:57:44.234580Z",
     "start_time": "2022-06-25T16:57:44.218385Z"
    }
   },
   "source": [
    "<div class=\"alert alert-info\"> <b>Комментарий студента:</b> Привет, я Роман.Можно на ТЫ</div>"
   ]
  },
  {
   "cell_type": "markdown",
   "id": "8c851cf2",
   "metadata": {
    "toc": true
   },
   "source": [
    "<h1>Table of Contents<span class=\"tocSkip\"></span></h1>\n",
    "<div class=\"toc\"><ul class=\"toc-item\"><li><span><a href=\"#ИМПОРТЫ\" data-toc-modified-id=\"ИМПОРТЫ-1\"><span class=\"toc-item-num\">1&nbsp;&nbsp;</span>ИМПОРТЫ</a></span></li><li><span><a href=\"#Загрузим-данные-и-выполните-их-ресемплирование-по-одному-часу.\" data-toc-modified-id=\"Загрузим-данные-и-выполните-их-ресемплирование-по-одному-часу.-2\"><span class=\"toc-item-num\">2&nbsp;&nbsp;</span>Загрузим данные и выполните их ресемплирование по одному часу.</a></span><ul class=\"toc-item\"><li><span><a href=\"#загрузим-данные,\" data-toc-modified-id=\"загрузим-данные,-2.1\"><span class=\"toc-item-num\">2.1&nbsp;&nbsp;</span>загрузим данные,</a></span></li><li><span><a href=\"#ресемплирование-по-одному-часу\" data-toc-modified-id=\"ресемплирование-по-одному-часу-2.2\"><span class=\"toc-item-num\">2.2&nbsp;&nbsp;</span>ресемплирование по одному часу</a></span></li></ul></li><li><span><a href=\"#Проанализируем-данные.\" data-toc-modified-id=\"Проанализируем-данные.-3\"><span class=\"toc-item-num\">3&nbsp;&nbsp;</span>Проанализируем данные.</a></span><ul class=\"toc-item\"><li><span><a href=\"#Вывод\" data-toc-modified-id=\"Вывод-3.1\"><span class=\"toc-item-num\">3.1&nbsp;&nbsp;</span>Вывод</a></span></li></ul></li><li><span><a href=\"#Обучим--модели.\" data-toc-modified-id=\"Обучим--модели.-4\"><span class=\"toc-item-num\">4&nbsp;&nbsp;</span>Обучим  модели.</a></span><ul class=\"toc-item\"><li><span><a href=\"#Созданим-признаки-для-наших-моделей.\" data-toc-modified-id=\"Созданим-признаки-для-наших-моделей.-4.1\"><span class=\"toc-item-num\">4.1&nbsp;&nbsp;</span>Созданим признаки для наших моделей.</a></span></li><li><span><a href=\"#Раздилим-данные-и-избавимся-от-пропусков.\" data-toc-modified-id=\"Раздилим-данные-и-избавимся-от-пропусков.-4.2\"><span class=\"toc-item-num\">4.2&nbsp;&nbsp;</span>Раздилим данные и избавимся от пропусков.</a></span></li><li><span><a href=\"#Первая-модель.CatBoost\" data-toc-modified-id=\"Первая-модель.CatBoost-4.3\"><span class=\"toc-item-num\">4.3&nbsp;&nbsp;</span>Первая модель.CatBoost</a></span></li><li><span><a href=\"#Вторая-модель.LinearRegression\" data-toc-modified-id=\"Вторая-модель.LinearRegression-4.4\"><span class=\"toc-item-num\">4.4&nbsp;&nbsp;</span>Вторая модель.LinearRegression</a></span></li></ul></li><li><span><a href=\"#Проверим-на-тестовой-выборке.\" data-toc-modified-id=\"Проверим-на-тестовой-выборке.-5\"><span class=\"toc-item-num\">5&nbsp;&nbsp;</span>Проверим на тестовой выборке.</a></span></li><li><span><a href=\"#Общий-ВЫВОД\" data-toc-modified-id=\"Общий-ВЫВОД-6\"><span class=\"toc-item-num\">6&nbsp;&nbsp;</span>Общий ВЫВОД</a></span></li></ul></div>"
   ]
  },
  {
   "cell_type": "markdown",
   "id": "69fb7a60",
   "metadata": {},
   "source": [
    "# Описание проекта"
   ]
  },
  {
   "cell_type": "markdown",
   "id": "b447ae88",
   "metadata": {},
   "source": [
    "*Компания «Чётенькое такси» собрала исторические данные о заказах такси в аэропортах. Чтобы привлекать больше водителей в период пиковой нагрузки, нужно спрогнозировать количество заказов такси на следующий час. Постройте модель для такого предсказания.*\n"
   ]
  },
  {
   "cell_type": "markdown",
   "id": "c476bd4e",
   "metadata": {},
   "source": [
    "*Значение метрики RMSE на тестовой выборке должно быть не больше 48*"
   ]
  },
  {
   "cell_type": "markdown",
   "id": "09cd2177",
   "metadata": {},
   "source": [
    "## ИМПОРТЫ"
   ]
  },
  {
   "cell_type": "code",
   "execution_count": 117,
   "id": "93620f1e",
   "metadata": {
    "ExecuteTime": {
     "end_time": "2022-06-25T17:52:00.787925Z",
     "start_time": "2022-06-25T17:52:00.775252Z"
    }
   },
   "outputs": [],
   "source": [
    "import pandas as pd \n",
    "import matplotlib.pyplot as plt\n",
    "from statsmodels.tsa.seasonal import seasonal_decompose\n",
    "from sklearn.model_selection import train_test_split\n",
    "from catboost import CatBoostRegressor,Pool\n",
    "from sklearn.metrics import mean_squared_error\n",
    "from sklearn.linear_model import LinearRegression\n",
    "import numpy as np\n",
    "from sklearn.model_selection import GridSearchCV"
   ]
  },
  {
   "cell_type": "markdown",
   "id": "8ab9b4df",
   "metadata": {},
   "source": [
    "## Загрузим данные и выполните их ресемплирование по одному часу."
   ]
  },
  {
   "cell_type": "markdown",
   "id": "9f78c3f3",
   "metadata": {},
   "source": [
    "### загрузим данные,"
   ]
  },
  {
   "cell_type": "code",
   "execution_count": 22,
   "id": "65be4089",
   "metadata": {
    "ExecuteTime": {
     "end_time": "2022-06-25T17:05:43.991099Z",
     "start_time": "2022-06-25T17:05:43.947043Z"
    }
   },
   "outputs": [],
   "source": [
    "df=pd.read_csv('/datasets/taxi.csv',index_col=[0], parse_dates=[0])#/datasets/taxi.csv"
   ]
  },
  {
   "cell_type": "markdown",
   "id": "e240ceec",
   "metadata": {},
   "source": [
    "<div class=\"alert alert-danger\">\n",
    "<b>Комментарий ревьюера: &#10060; </b> Давай предусмотрим работу тетради на сервере Яндекса </div>"
   ]
  },
  {
   "cell_type": "markdown",
   "id": "e17ad597",
   "metadata": {},
   "source": [
    "<div class=\"alert alert-info\"> <b>Комментарий студента:</b> Просто забыл поменять путь перед отправкой,извиняюсь</div>"
   ]
  },
  {
   "cell_type": "markdown",
   "id": "59add659",
   "metadata": {},
   "source": [
    "<div class=\"alert alert-success\">\n",
    "<b>Комментарий ревьюера V2:\n",
    "&#9989;</b> Отлично! </div>"
   ]
  },
  {
   "cell_type": "markdown",
   "id": "01f20fa7",
   "metadata": {
    "ExecuteTime": {
     "end_time": "2022-06-21T16:00:27.413618Z",
     "start_time": "2022-06-21T16:00:27.408299Z"
    }
   },
   "source": [
    "Отсортируем данные на всякий случай"
   ]
  },
  {
   "cell_type": "code",
   "execution_count": 5,
   "id": "b0700e06",
   "metadata": {
    "ExecuteTime": {
     "end_time": "2022-06-25T17:00:46.258449Z",
     "start_time": "2022-06-25T17:00:46.247972Z"
    }
   },
   "outputs": [
    {
     "data": {
      "text/plain": [
       "True"
      ]
     },
     "execution_count": 5,
     "metadata": {},
     "output_type": "execute_result"
    }
   ],
   "source": [
    "#код ревьюера\n",
    "df.index.is_monotonic"
   ]
  },
  {
   "cell_type": "code",
   "execution_count": 6,
   "id": "d6f50de6",
   "metadata": {
    "ExecuteTime": {
     "end_time": "2022-06-25T17:00:52.461733Z",
     "start_time": "2022-06-25T17:00:52.446886Z"
    }
   },
   "outputs": [],
   "source": [
    "df.sort_index(inplace=True)"
   ]
  },
  {
   "cell_type": "markdown",
   "id": "736ddcb9",
   "metadata": {},
   "source": [
    "<div class=\"alert alert-warning\">\n",
    "<b>Комментарий ревьюера:\n",
    "    &#9888;</b> Проверка на монотонность осуществляется так <code>df.index.is_monotonic</code>\n",
    "</div>"
   ]
  },
  {
   "cell_type": "markdown",
   "id": "d7351956",
   "metadata": {
    "ExecuteTime": {
     "end_time": "2022-06-25T17:01:15.615837Z",
     "start_time": "2022-06-25T17:01:15.607379Z"
    }
   },
   "source": [
    "<div class=\"alert alert-info\"> <b>Комментарий студента:</b> СПАСИБО, учёл</div>"
   ]
  },
  {
   "cell_type": "markdown",
   "id": "a7de9ba3",
   "metadata": {},
   "source": [
    "<div class=\"alert alert-success\">\n",
    "<b>Комментарий ревьюера V2:\n",
    "&#9989;</b> Отлично! </div>"
   ]
  },
  {
   "cell_type": "code",
   "execution_count": 8,
   "id": "3af91bd0",
   "metadata": {
    "ExecuteTime": {
     "end_time": "2022-06-25T17:01:19.611795Z",
     "start_time": "2022-06-25T17:01:19.588986Z"
    }
   },
   "outputs": [
    {
     "data": {
      "text/html": [
       "<div>\n",
       "<style scoped>\n",
       "    .dataframe tbody tr th:only-of-type {\n",
       "        vertical-align: middle;\n",
       "    }\n",
       "\n",
       "    .dataframe tbody tr th {\n",
       "        vertical-align: top;\n",
       "    }\n",
       "\n",
       "    .dataframe thead th {\n",
       "        text-align: right;\n",
       "    }\n",
       "</style>\n",
       "<table border=\"1\" class=\"dataframe\">\n",
       "  <thead>\n",
       "    <tr style=\"text-align: right;\">\n",
       "      <th></th>\n",
       "      <th>num_orders</th>\n",
       "    </tr>\n",
       "    <tr>\n",
       "      <th>datetime</th>\n",
       "      <th></th>\n",
       "    </tr>\n",
       "  </thead>\n",
       "  <tbody>\n",
       "    <tr>\n",
       "      <th>2018-03-01 00:00:00</th>\n",
       "      <td>9</td>\n",
       "    </tr>\n",
       "    <tr>\n",
       "      <th>2018-03-01 00:10:00</th>\n",
       "      <td>14</td>\n",
       "    </tr>\n",
       "    <tr>\n",
       "      <th>2018-03-01 00:20:00</th>\n",
       "      <td>28</td>\n",
       "    </tr>\n",
       "    <tr>\n",
       "      <th>2018-03-01 00:30:00</th>\n",
       "      <td>20</td>\n",
       "    </tr>\n",
       "    <tr>\n",
       "      <th>2018-03-01 00:40:00</th>\n",
       "      <td>32</td>\n",
       "    </tr>\n",
       "  </tbody>\n",
       "</table>\n",
       "</div>"
      ],
      "text/plain": [
       "                     num_orders\n",
       "datetime                       \n",
       "2018-03-01 00:00:00           9\n",
       "2018-03-01 00:10:00          14\n",
       "2018-03-01 00:20:00          28\n",
       "2018-03-01 00:30:00          20\n",
       "2018-03-01 00:40:00          32"
      ]
     },
     "execution_count": 8,
     "metadata": {},
     "output_type": "execute_result"
    }
   ],
   "source": [
    "df.head()"
   ]
  },
  {
   "cell_type": "code",
   "execution_count": 9,
   "id": "710a4170",
   "metadata": {
    "ExecuteTime": {
     "end_time": "2022-06-25T17:01:23.673779Z",
     "start_time": "2022-06-25T17:01:23.656953Z"
    }
   },
   "outputs": [
    {
     "name": "stdout",
     "output_type": "stream",
     "text": [
      "<class 'pandas.core.frame.DataFrame'>\n",
      "DatetimeIndex: 26496 entries, 2018-03-01 00:00:00 to 2018-08-31 23:50:00\n",
      "Data columns (total 1 columns):\n",
      " #   Column      Non-Null Count  Dtype\n",
      "---  ------      --------------  -----\n",
      " 0   num_orders  26496 non-null  int64\n",
      "dtypes: int64(1)\n",
      "memory usage: 414.0 KB\n"
     ]
    }
   ],
   "source": [
    "df.info()"
   ]
  },
  {
   "cell_type": "markdown",
   "id": "3c7f67ce",
   "metadata": {},
   "source": [
    "Пропущенных значений нет."
   ]
  },
  {
   "cell_type": "markdown",
   "id": "76bb52f8",
   "metadata": {},
   "source": [
    "Посмотрим на данные с помощью графика."
   ]
  },
  {
   "cell_type": "code",
   "execution_count": 10,
   "id": "a7675814",
   "metadata": {
    "ExecuteTime": {
     "end_time": "2022-06-25T17:01:25.808315Z",
     "start_time": "2022-06-25T17:01:25.082936Z"
    }
   },
   "outputs": [
    {
     "data": {
      "text/plain": [
       "<AxesSubplot:xlabel='datetime'>"
      ]
     },
     "execution_count": 10,
     "metadata": {},
     "output_type": "execute_result"
    },
    {
     "data": {
      "image/png": "[encoded data removed]",
      "text/plain": [
       "<Figure size 432x288 with 1 Axes>"
      ]
     },
     "metadata": {
      "needs_background": "light"
     },
     "output_type": "display_data"
    }
   ],
   "source": [
    "df.plot()"
   ]
  },
  {
   "cell_type": "code",
   "execution_count": 11,
   "id": "7587ff49",
   "metadata": {
    "ExecuteTime": {
     "end_time": "2022-06-25T17:01:35.185658Z",
     "start_time": "2022-06-25T17:01:35.171763Z"
    }
   },
   "outputs": [
    {
     "data": {
      "text/plain": [
       "Timestamp('2018-03-01 00:00:00')"
      ]
     },
     "execution_count": 11,
     "metadata": {},
     "output_type": "execute_result"
    }
   ],
   "source": [
    "df.index.min()"
   ]
  },
  {
   "cell_type": "code",
   "execution_count": 12,
   "id": "11e4f12e",
   "metadata": {
    "ExecuteTime": {
     "end_time": "2022-06-25T17:01:35.916946Z",
     "start_time": "2022-06-25T17:01:35.911945Z"
    }
   },
   "outputs": [
    {
     "data": {
      "text/plain": [
       "Timestamp('2018-08-31 23:50:00')"
      ]
     },
     "execution_count": 12,
     "metadata": {},
     "output_type": "execute_result"
    }
   ],
   "source": [
    "df.index.max()"
   ]
  },
  {
   "cell_type": "markdown",
   "id": "40d4bc89",
   "metadata": {},
   "source": [
    "Явных проблем с данными не вижу."
   ]
  },
  {
   "cell_type": "markdown",
   "id": "42498d09",
   "metadata": {},
   "source": [
    "<div class=\"alert alert-success\">\n",
    "<b>Комментарий ревьюера:\n",
    "&#9989;</b> Молодец, что не забываешь про EDA!</div>"
   ]
  },
  {
   "cell_type": "markdown",
   "id": "118c95ac",
   "metadata": {},
   "source": [
    "### ресемплирование по одному часу"
   ]
  },
  {
   "cell_type": "markdown",
   "id": "7fcd1d3e",
   "metadata": {},
   "source": [
    "Применим суммирования данным по временному интервалу 1 час во время ресмплирования."
   ]
  },
  {
   "cell_type": "code",
   "execution_count": 23,
   "id": "de05d592",
   "metadata": {
    "ExecuteTime": {
     "end_time": "2022-06-25T17:05:53.085979Z",
     "start_time": "2022-06-25T17:05:53.068558Z"
    }
   },
   "outputs": [],
   "source": [
    "df = df.resample('1H').sum()\n"
   ]
  },
  {
   "cell_type": "markdown",
   "id": "780b5d28",
   "metadata": {},
   "source": [
    "<div class=\"alert alert-success\">\n",
    "<b>Комментарий ревьюера:\n",
    "&#9989;</b> Молодец, что используешь сумму при ресемлировании,это позволяет легче интерпретировать результаты!</div>"
   ]
  },
  {
   "cell_type": "code",
   "execution_count": 24,
   "id": "43de6c86",
   "metadata": {
    "ExecuteTime": {
     "end_time": "2022-06-25T17:05:54.081573Z",
     "start_time": "2022-06-25T17:05:54.075653Z"
    }
   },
   "outputs": [
    {
     "data": {
      "text/plain": [
       "(4416, 1)"
      ]
     },
     "execution_count": 24,
     "metadata": {},
     "output_type": "execute_result"
    }
   ],
   "source": [
    "df.shape"
   ]
  },
  {
   "cell_type": "code",
   "execution_count": 25,
   "id": "1df0ac7e",
   "metadata": {
    "ExecuteTime": {
     "end_time": "2022-06-25T17:05:54.533933Z",
     "start_time": "2022-06-25T17:05:54.515038Z"
    }
   },
   "outputs": [
    {
     "data": {
      "text/html": [
       "<div>\n",
       "<style scoped>\n",
       "    .dataframe tbody tr th:only-of-type {\n",
       "        vertical-align: middle;\n",
       "    }\n",
       "\n",
       "    .dataframe tbody tr th {\n",
       "        vertical-align: top;\n",
       "    }\n",
       "\n",
       "    .dataframe thead th {\n",
       "        text-align: right;\n",
       "    }\n",
       "</style>\n",
       "<table border=\"1\" class=\"dataframe\">\n",
       "  <thead>\n",
       "    <tr style=\"text-align: right;\">\n",
       "      <th></th>\n",
       "      <th>num_orders</th>\n",
       "    </tr>\n",
       "    <tr>\n",
       "      <th>datetime</th>\n",
       "      <th></th>\n",
       "    </tr>\n",
       "  </thead>\n",
       "  <tbody>\n",
       "    <tr>\n",
       "      <th>2018-03-01 00:00:00</th>\n",
       "      <td>124</td>\n",
       "    </tr>\n",
       "    <tr>\n",
       "      <th>2018-03-01 01:00:00</th>\n",
       "      <td>85</td>\n",
       "    </tr>\n",
       "    <tr>\n",
       "      <th>2018-03-01 02:00:00</th>\n",
       "      <td>71</td>\n",
       "    </tr>\n",
       "    <tr>\n",
       "      <th>2018-03-01 03:00:00</th>\n",
       "      <td>66</td>\n",
       "    </tr>\n",
       "    <tr>\n",
       "      <th>2018-03-01 04:00:00</th>\n",
       "      <td>43</td>\n",
       "    </tr>\n",
       "  </tbody>\n",
       "</table>\n",
       "</div>"
      ],
      "text/plain": [
       "                     num_orders\n",
       "datetime                       \n",
       "2018-03-01 00:00:00         124\n",
       "2018-03-01 01:00:00          85\n",
       "2018-03-01 02:00:00          71\n",
       "2018-03-01 03:00:00          66\n",
       "2018-03-01 04:00:00          43"
      ]
     },
     "execution_count": 25,
     "metadata": {},
     "output_type": "execute_result"
    }
   ],
   "source": [
    "df.head()"
   ]
  },
  {
   "cell_type": "markdown",
   "id": "1b741456",
   "metadata": {},
   "source": [
    "Количество строк уменьшилось примерно в 6 раз, чего и следовало ожидать."
   ]
  },
  {
   "cell_type": "markdown",
   "id": "481268a7",
   "metadata": {},
   "source": [
    "## Проанализируем данные."
   ]
  },
  {
   "cell_type": "markdown",
   "id": "e04e364b",
   "metadata": {},
   "source": [
    "Для анализа добавим столбцы с \"скользящим\" средним и \"скользящим\" стандардным отклонением.Создадим копию датафрейма для того чтобы добавить в него столбцы для анализа(я думаю эти столбцы будут пом лишними в основном датафрейме)"
   ]
  },
  {
   "cell_type": "code",
   "execution_count": 34,
   "id": "b9778f5b",
   "metadata": {
    "ExecuteTime": {
     "end_time": "2022-06-25T17:06:37.795306Z",
     "start_time": "2022-06-25T17:06:37.787688Z"
    }
   },
   "outputs": [],
   "source": [
    "anylise_df=df.copy()"
   ]
  },
  {
   "cell_type": "code",
   "execution_count": 35,
   "id": "ef966c81",
   "metadata": {
    "ExecuteTime": {
     "end_time": "2022-06-25T17:06:38.635917Z",
     "start_time": "2022-06-25T17:06:38.617458Z"
    }
   },
   "outputs": [],
   "source": [
    "anylise_df = anylise_df.resample('1D').sum()\n"
   ]
  },
  {
   "cell_type": "code",
   "execution_count": 36,
   "id": "67658390",
   "metadata": {
    "ExecuteTime": {
     "end_time": "2022-06-25T17:06:39.241436Z",
     "start_time": "2022-06-25T17:06:39.223228Z"
    }
   },
   "outputs": [],
   "source": [
    "anylise_df['rolling_mean']=anylise_df['num_orders'].rolling(7).mean()"
   ]
  },
  {
   "cell_type": "code",
   "execution_count": 37,
   "id": "d3327e94",
   "metadata": {
    "ExecuteTime": {
     "end_time": "2022-06-25T17:06:41.339554Z",
     "start_time": "2022-06-25T17:06:41.324358Z"
    }
   },
   "outputs": [],
   "source": [
    "anylise_df['std'] = anylise_df['num_orders'].rolling(7).std()"
   ]
  },
  {
   "cell_type": "markdown",
   "id": "2093ca6f",
   "metadata": {},
   "source": [
    "<div class=\"alert alert-danger\">\n",
    "<b>Комментарий ревьюера: &#10060; </b> Давай рассчитывать средние и стандартные отклонения на окнах одного размера) и может тогда уже кратно суткам сделать?)24, например </div>"
   ]
  },
  {
   "cell_type": "markdown",
   "id": "c474e39e",
   "metadata": {
    "ExecuteTime": {
     "end_time": "2022-06-25T17:02:33.289416Z",
     "start_time": "2022-06-25T17:02:33.273506Z"
    }
   },
   "source": [
    "<div class=\"alert alert-info\"> <b>Комментарий студента:</b> Хорошо!</div>"
   ]
  },
  {
   "cell_type": "markdown",
   "id": "3360105c",
   "metadata": {},
   "source": [
    "<div class=\"alert alert-success\">\n",
    "<b>Комментарий ревьюера V2:\n",
    "&#9989;</b> Хорошо! </div>"
   ]
  },
  {
   "cell_type": "markdown",
   "id": "6437e33f",
   "metadata": {},
   "source": [
    "Отобразим на графике."
   ]
  },
  {
   "cell_type": "code",
   "execution_count": 39,
   "id": "2c6d1850",
   "metadata": {
    "ExecuteTime": {
     "end_time": "2022-06-25T17:08:26.607572Z",
     "start_time": "2022-06-25T17:08:26.396737Z"
    }
   },
   "outputs": [
    {
     "data": {
      "text/plain": [
       "Text(0, 0.5, 'Количество заказов')"
      ]
     },
     "execution_count": 39,
     "metadata": {},
     "output_type": "execute_result"
    },
    {
     "data": {
      "image/png": "[encoded data removed]",
      "text/plain": [
       "<Figure size 1080x432 with 1 Axes>"
      ]
     },
     "metadata": {
      "needs_background": "light"
     },
     "output_type": "display_data"
    }
   ],
   "source": [
    "fig = plt.figure(figsize=(15,6))\n",
    "plt.plot(anylise_df)\n",
    "plt.legend(anylise_df)\n",
    "plt.xlabel('Дата')\n",
    "plt.ylabel('Количество заказов')"
   ]
  },
  {
   "cell_type": "markdown",
   "id": "59bfe727",
   "metadata": {},
   "source": [
    "**По графику видно что среднее изменяется(увелиливается), значит временной ряд не стационарный.** "
   ]
  },
  {
   "cell_type": "markdown",
   "id": "ce317fc9",
   "metadata": {},
   "source": [
    "<div class=\"alert alert-success\">\n",
    "<b>Комментарий ревьюера:\n",
    "&#9989;</b> Хорошо, но лучше сделать график с ресемплом по дням, чтобы было понятнее! Так же не забывай подписывать оси</div>"
   ]
  },
  {
   "cell_type": "markdown",
   "id": "4593d849",
   "metadata": {
    "ExecuteTime": {
     "end_time": "2022-06-25T17:08:58.716132Z",
     "start_time": "2022-06-25T17:08:58.702762Z"
    }
   },
   "source": [
    "<div class=\"alert alert-info\"> <b>Комментарий студента:</b> Поменял!</div>"
   ]
  },
  {
   "cell_type": "markdown",
   "id": "fda7bc28",
   "metadata": {},
   "source": [
    "<div class=\"alert alert-success\">\n",
    "<b>Комментарий ревьюера V2:\n",
    "&#9989;</b> Меньше шумов, больше полезной инфы)! </div>"
   ]
  },
  {
   "cell_type": "markdown",
   "id": "c65bd30c",
   "metadata": {
    "ExecuteTime": {
     "end_time": "2022-06-21T16:58:55.932728Z",
     "start_time": "2022-06-21T16:58:55.920304Z"
    }
   },
   "source": [
    "Изучим временной ряд на тренды и сезонность."
   ]
  },
  {
   "cell_type": "code",
   "execution_count": 41,
   "id": "6749d198",
   "metadata": {
    "ExecuteTime": {
     "end_time": "2022-06-25T17:09:04.331253Z",
     "start_time": "2022-06-25T17:09:04.309881Z"
    }
   },
   "outputs": [
    {
     "data": {
      "text/html": [
       "<div>\n",
       "<style scoped>\n",
       "    .dataframe tbody tr th:only-of-type {\n",
       "        vertical-align: middle;\n",
       "    }\n",
       "\n",
       "    .dataframe tbody tr th {\n",
       "        vertical-align: top;\n",
       "    }\n",
       "\n",
       "    .dataframe thead th {\n",
       "        text-align: right;\n",
       "    }\n",
       "</style>\n",
       "<table border=\"1\" class=\"dataframe\">\n",
       "  <thead>\n",
       "    <tr style=\"text-align: right;\">\n",
       "      <th></th>\n",
       "      <th>num_orders</th>\n",
       "    </tr>\n",
       "    <tr>\n",
       "      <th>datetime</th>\n",
       "      <th></th>\n",
       "    </tr>\n",
       "  </thead>\n",
       "  <tbody>\n",
       "    <tr>\n",
       "      <th>2018-03-01 00:00:00</th>\n",
       "      <td>124</td>\n",
       "    </tr>\n",
       "    <tr>\n",
       "      <th>2018-03-01 01:00:00</th>\n",
       "      <td>85</td>\n",
       "    </tr>\n",
       "    <tr>\n",
       "      <th>2018-03-01 02:00:00</th>\n",
       "      <td>71</td>\n",
       "    </tr>\n",
       "    <tr>\n",
       "      <th>2018-03-01 03:00:00</th>\n",
       "      <td>66</td>\n",
       "    </tr>\n",
       "    <tr>\n",
       "      <th>2018-03-01 04:00:00</th>\n",
       "      <td>43</td>\n",
       "    </tr>\n",
       "  </tbody>\n",
       "</table>\n",
       "</div>"
      ],
      "text/plain": [
       "                     num_orders\n",
       "datetime                       \n",
       "2018-03-01 00:00:00         124\n",
       "2018-03-01 01:00:00          85\n",
       "2018-03-01 02:00:00          71\n",
       "2018-03-01 03:00:00          66\n",
       "2018-03-01 04:00:00          43"
      ]
     },
     "execution_count": 41,
     "metadata": {},
     "output_type": "execute_result"
    }
   ],
   "source": [
    "df.head()"
   ]
  },
  {
   "cell_type": "code",
   "execution_count": 42,
   "id": "7b0a116d",
   "metadata": {
    "ExecuteTime": {
     "end_time": "2022-06-25T17:09:14.057803Z",
     "start_time": "2022-06-25T17:09:14.038683Z"
    }
   },
   "outputs": [],
   "source": [
    "decomposed = seasonal_decompose(df['num_orders'].asfreq(freq='1d'))"
   ]
  },
  {
   "cell_type": "code",
   "execution_count": 20,
   "id": "5fb6414e",
   "metadata": {
    "ExecuteTime": {
     "end_time": "2022-06-22T09:15:46.751559Z",
     "start_time": "2022-06-22T09:15:46.193598Z"
    }
   },
   "outputs": [
    {
     "data": {
      "image/png": "[encoded data removed]",
      "text/plain": [
       "<Figure size 432x288 with 4 Axes>"
      ]
     },
     "execution_count": 20,
     "metadata": {},
     "output_type": "execute_result"
    },
    {
     "data": {
      "image/png": "[encoded data removed]",
      "text/plain": [
       "<Figure size 432x288 with 4 Axes>"
      ]
     },
     "metadata": {
      "needs_background": "light"
     },
     "output_type": "display_data"
    }
   ],
   "source": [
    "decomposed.plot()"
   ]
  },
  {
   "cell_type": "code",
   "execution_count": 105,
   "id": "7d65306f",
   "metadata": {
    "ExecuteTime": {
     "end_time": "2022-06-25T17:40:15.639354Z",
     "start_time": "2022-06-25T17:40:15.627686Z"
    }
   },
   "outputs": [],
   "source": [
    "decomposed_2=seasonal_decompose(df.loc['2018-03':'2018-04'])"
   ]
  },
  {
   "cell_type": "code",
   "execution_count": 106,
   "id": "ec5ebf57",
   "metadata": {
    "ExecuteTime": {
     "end_time": "2022-06-25T17:40:17.165729Z",
     "start_time": "2022-06-25T17:40:16.257091Z"
    }
   },
   "outputs": [
    {
     "data": {
      "image/png": "[encoded data removed]",
      "text/plain": [
       "<Figure size 432x288 with 4 Axes>"
      ]
     },
     "execution_count": 106,
     "metadata": {},
     "output_type": "execute_result"
    },
    {
     "data": {
      "image/png": "[encoded data removed]",
      "text/plain": [
       "<Figure size 432x288 with 4 Axes>"
      ]
     },
     "metadata": {
      "needs_background": "light"
     },
     "output_type": "display_data"
    }
   ],
   "source": [
    "decomposed_2.plot()"
   ]
  },
  {
   "cell_type": "markdown",
   "id": "98fc78ef",
   "metadata": {},
   "source": [
    "Как видно тренд спроса увеличивается с каждым месяцем, а \"сезонность\" наблюдается внутри каждого месяца. Это я думаю связано с со спросом на такси в разные дни недели(в выходные дни больший спрос на такси например)."
   ]
  },
  {
   "cell_type": "markdown",
   "id": "31cf9b74",
   "metadata": {},
   "source": [
    "<div class=\"alert alert-warning\">\n",
    "<b>Комментарий ревьюера:\n",
    "    &#9888;</b> Хорошо! Если ты делаешь предположение, то неплохо бы его изучить. Давай посмотрим на суточный/месячный графики. \n",
    "</div>"
   ]
  },
  {
   "cell_type": "markdown",
   "id": "872692ea",
   "metadata": {},
   "source": [
    "<div class=\"alert alert-info\"> <b>Комментарий студента:</b> Что то не получается красиво визуализировать мою \"гипотезу\", если не трудно подскажи) </div>"
   ]
  },
  {
   "cell_type": "markdown",
   "id": "63595207",
   "metadata": {},
   "source": [
    "<div class=\"alert alert-success\">\n",
    "<b>Комментарий ревьюера V2:\n",
    "    &#9989;</b> Все впринципе норм, можно просто отдельно посмотреть графики <code>decomposed = seasonal_decompose(data)\n",
    "    plt.figure(figsize=(12, 8))\n",
    "    decomposed.trend.plot(ax=plt.gca())\n",
    "    plt.title('Trend')</code> Примерно так, вариантов много, просто если ты что-то исследуешь, лучше это представлять наглядно, не вглядываясь черезе микроскоп</div>"
   ]
  },
  {
   "cell_type": "markdown",
   "id": "544473f1",
   "metadata": {},
   "source": [
    "### Вывод"
   ]
  },
  {
   "cell_type": "markdown",
   "id": "47515c82",
   "metadata": {},
   "source": [
    "В качестве признаков для нашей модели необходимо использовать \"месяц\" и \"день недели\". Так как наблюдается\n",
    "общие измениние спроса(увеличение) по месяцам и колебание спроса внутри месяца по дням недели."
   ]
  },
  {
   "cell_type": "markdown",
   "id": "39a16c87",
   "metadata": {},
   "source": [
    "## Обучим  модели."
   ]
  },
  {
   "cell_type": "markdown",
   "id": "7e590e7a",
   "metadata": {},
   "source": [
    "### Созданим признаки для наших моделей."
   ]
  },
  {
   "cell_type": "markdown",
   "id": "1cfb806d",
   "metadata": {},
   "source": [
    "Для создания \"признаков\" напишем простую функцию которая будет возвращать датафрейм с таким признаками как: месяц, день недели, столбцы со сдвигами данных(с количеством опредилимся исходя из качества модели.),а также столбец \"скользящий средней\" без учета одной для исключения лика даннных."
   ]
  },
  {
   "cell_type": "code",
   "execution_count": 107,
   "id": "636412a1",
   "metadata": {
    "ExecuteTime": {
     "end_time": "2022-06-25T17:43:24.874929Z",
     "start_time": "2022-06-25T17:43:24.855805Z"
    }
   },
   "outputs": [],
   "source": [
    "def make_features(data, max_lag, rolling_mean_size):\n",
    "    data['hour'] = data.index.hour\n",
    "    data['day'] = data.index.day# час\n",
    "    data['dayofweek'] = data.index.dayofweek #день недели\n",
    "    for lag in range(1, max_lag + 1):#сдвиги\n",
    "        data['lag_{}'.format(lag)] = data['num_orders'].shift(lag)\n",
    "    data['rolling_mean'] = data['num_orders'].shift().rolling(rolling_mean_size).mean()# скользящие среднее\n",
    "    return data"
   ]
  },
  {
   "cell_type": "markdown",
   "id": "4e1a341f",
   "metadata": {},
   "source": [
    "<div class=\"alert alert-danger\">\n",
    "<b>Комментарий ревьюера: &#10060; </b> Так как у нас выборка всего-лишь за пол года, то признак 'month' будет лишним, может присмотреться к каким-то другим признакам?)</div>"
   ]
  },
  {
   "cell_type": "markdown",
   "id": "36faff81",
   "metadata": {},
   "source": [
    "<div class=\"alert alert-info\"> <b>Комментарий студента:</b>Добавил другие фичи  </div>"
   ]
  },
  {
   "cell_type": "markdown",
   "id": "eba963b9",
   "metadata": {},
   "source": [
    "<div class=\"alert alert-success\">\n",
    "<b>Комментарий ревьюера V2:\n",
    "&#9989;</b> Хорошо!</div>"
   ]
  },
  {
   "cell_type": "code",
   "execution_count": 108,
   "id": "ecfc29a9",
   "metadata": {
    "ExecuteTime": {
     "end_time": "2022-06-25T17:44:19.315878Z",
     "start_time": "2022-06-25T17:44:19.284208Z"
    }
   },
   "outputs": [],
   "source": [
    "data=make_features(df,30,30)"
   ]
  },
  {
   "cell_type": "markdown",
   "id": "fcac45dd",
   "metadata": {},
   "source": [
    "<div class=\"alert alert-success\">\n",
    "<b>Комментарий ревьюера:\n",
    "&#9989;</b> Хорошо,Чтобы оценить порядок авторегрессии, можно построить график частной автокорреляционной функции\n",
    "А для того, чтобы оценить порядок скользящего среднего, построить график автокорреляционной функции. Нам нужен тот параметр, после которого значения функции равны или близки нулю.</div>"
   ]
  },
  {
   "cell_type": "code",
   "execution_count": 109,
   "id": "c533bfcd",
   "metadata": {
    "ExecuteTime": {
     "end_time": "2022-06-25T17:44:44.205365Z",
     "start_time": "2022-06-25T17:44:44.183030Z"
    }
   },
   "outputs": [
    {
     "data": {
      "text/html": [
       "<div>\n",
       "<style scoped>\n",
       "    .dataframe tbody tr th:only-of-type {\n",
       "        vertical-align: middle;\n",
       "    }\n",
       "\n",
       "    .dataframe tbody tr th {\n",
       "        vertical-align: top;\n",
       "    }\n",
       "\n",
       "    .dataframe thead th {\n",
       "        text-align: right;\n",
       "    }\n",
       "</style>\n",
       "<table border=\"1\" class=\"dataframe\">\n",
       "  <thead>\n",
       "    <tr style=\"text-align: right;\">\n",
       "      <th></th>\n",
       "      <th>num_orders</th>\n",
       "      <th>hour</th>\n",
       "      <th>day</th>\n",
       "      <th>dayofweek</th>\n",
       "      <th>lag_1</th>\n",
       "      <th>lag_2</th>\n",
       "      <th>lag_3</th>\n",
       "      <th>lag_4</th>\n",
       "      <th>lag_5</th>\n",
       "      <th>lag_6</th>\n",
       "      <th>...</th>\n",
       "      <th>lag_22</th>\n",
       "      <th>lag_23</th>\n",
       "      <th>lag_24</th>\n",
       "      <th>lag_25</th>\n",
       "      <th>lag_26</th>\n",
       "      <th>lag_27</th>\n",
       "      <th>lag_28</th>\n",
       "      <th>lag_29</th>\n",
       "      <th>lag_30</th>\n",
       "      <th>rolling_mean</th>\n",
       "    </tr>\n",
       "    <tr>\n",
       "      <th>datetime</th>\n",
       "      <th></th>\n",
       "      <th></th>\n",
       "      <th></th>\n",
       "      <th></th>\n",
       "      <th></th>\n",
       "      <th></th>\n",
       "      <th></th>\n",
       "      <th></th>\n",
       "      <th></th>\n",
       "      <th></th>\n",
       "      <th></th>\n",
       "      <th></th>\n",
       "      <th></th>\n",
       "      <th></th>\n",
       "      <th></th>\n",
       "      <th></th>\n",
       "      <th></th>\n",
       "      <th></th>\n",
       "      <th></th>\n",
       "      <th></th>\n",
       "      <th></th>\n",
       "    </tr>\n",
       "  </thead>\n",
       "  <tbody>\n",
       "    <tr>\n",
       "      <th>2018-03-01 00:00:00</th>\n",
       "      <td>124</td>\n",
       "      <td>0</td>\n",
       "      <td>1</td>\n",
       "      <td>3</td>\n",
       "      <td>NaN</td>\n",
       "      <td>NaN</td>\n",
       "      <td>NaN</td>\n",
       "      <td>NaN</td>\n",
       "      <td>NaN</td>\n",
       "      <td>NaN</td>\n",
       "      <td>...</td>\n",
       "      <td>NaN</td>\n",
       "      <td>NaN</td>\n",
       "      <td>NaN</td>\n",
       "      <td>NaN</td>\n",
       "      <td>NaN</td>\n",
       "      <td>NaN</td>\n",
       "      <td>NaN</td>\n",
       "      <td>NaN</td>\n",
       "      <td>NaN</td>\n",
       "      <td>NaN</td>\n",
       "    </tr>\n",
       "    <tr>\n",
       "      <th>2018-03-01 01:00:00</th>\n",
       "      <td>85</td>\n",
       "      <td>1</td>\n",
       "      <td>1</td>\n",
       "      <td>3</td>\n",
       "      <td>124.0</td>\n",
       "      <td>NaN</td>\n",
       "      <td>NaN</td>\n",
       "      <td>NaN</td>\n",
       "      <td>NaN</td>\n",
       "      <td>NaN</td>\n",
       "      <td>...</td>\n",
       "      <td>NaN</td>\n",
       "      <td>NaN</td>\n",
       "      <td>NaN</td>\n",
       "      <td>NaN</td>\n",
       "      <td>NaN</td>\n",
       "      <td>NaN</td>\n",
       "      <td>NaN</td>\n",
       "      <td>NaN</td>\n",
       "      <td>NaN</td>\n",
       "      <td>NaN</td>\n",
       "    </tr>\n",
       "    <tr>\n",
       "      <th>2018-03-01 02:00:00</th>\n",
       "      <td>71</td>\n",
       "      <td>2</td>\n",
       "      <td>1</td>\n",
       "      <td>3</td>\n",
       "      <td>85.0</td>\n",
       "      <td>124.0</td>\n",
       "      <td>NaN</td>\n",
       "      <td>NaN</td>\n",
       "      <td>NaN</td>\n",
       "      <td>NaN</td>\n",
       "      <td>...</td>\n",
       "      <td>NaN</td>\n",
       "      <td>NaN</td>\n",
       "      <td>NaN</td>\n",
       "      <td>NaN</td>\n",
       "      <td>NaN</td>\n",
       "      <td>NaN</td>\n",
       "      <td>NaN</td>\n",
       "      <td>NaN</td>\n",
       "      <td>NaN</td>\n",
       "      <td>NaN</td>\n",
       "    </tr>\n",
       "    <tr>\n",
       "      <th>2018-03-01 03:00:00</th>\n",
       "      <td>66</td>\n",
       "      <td>3</td>\n",
       "      <td>1</td>\n",
       "      <td>3</td>\n",
       "      <td>71.0</td>\n",
       "      <td>85.0</td>\n",
       "      <td>124.0</td>\n",
       "      <td>NaN</td>\n",
       "      <td>NaN</td>\n",
       "      <td>NaN</td>\n",
       "      <td>...</td>\n",
       "      <td>NaN</td>\n",
       "      <td>NaN</td>\n",
       "      <td>NaN</td>\n",
       "      <td>NaN</td>\n",
       "      <td>NaN</td>\n",
       "      <td>NaN</td>\n",
       "      <td>NaN</td>\n",
       "      <td>NaN</td>\n",
       "      <td>NaN</td>\n",
       "      <td>NaN</td>\n",
       "    </tr>\n",
       "    <tr>\n",
       "      <th>2018-03-01 04:00:00</th>\n",
       "      <td>43</td>\n",
       "      <td>4</td>\n",
       "      <td>1</td>\n",
       "      <td>3</td>\n",
       "      <td>66.0</td>\n",
       "      <td>71.0</td>\n",
       "      <td>85.0</td>\n",
       "      <td>124.0</td>\n",
       "      <td>NaN</td>\n",
       "      <td>NaN</td>\n",
       "      <td>...</td>\n",
       "      <td>NaN</td>\n",
       "      <td>NaN</td>\n",
       "      <td>NaN</td>\n",
       "      <td>NaN</td>\n",
       "      <td>NaN</td>\n",
       "      <td>NaN</td>\n",
       "      <td>NaN</td>\n",
       "      <td>NaN</td>\n",
       "      <td>NaN</td>\n",
       "      <td>NaN</td>\n",
       "    </tr>\n",
       "  </tbody>\n",
       "</table>\n",
       "<p>5 rows × 35 columns</p>\n",
       "</div>"
      ],
      "text/plain": [
       "                     num_orders  hour  day  dayofweek  lag_1  lag_2  lag_3  \\\n",
       "datetime                                                                     \n",
       "2018-03-01 00:00:00         124     0    1          3    NaN    NaN    NaN   \n",
       "2018-03-01 01:00:00          85     1    1          3  124.0    NaN    NaN   \n",
       "2018-03-01 02:00:00          71     2    1          3   85.0  124.0    NaN   \n",
       "2018-03-01 03:00:00          66     3    1          3   71.0   85.0  124.0   \n",
       "2018-03-01 04:00:00          43     4    1          3   66.0   71.0   85.0   \n",
       "\n",
       "                     lag_4  lag_5  lag_6  ...  lag_22  lag_23  lag_24  lag_25  \\\n",
       "datetime                                  ...                                   \n",
       "2018-03-01 00:00:00    NaN    NaN    NaN  ...     NaN     NaN     NaN     NaN   \n",
       "2018-03-01 01:00:00    NaN    NaN    NaN  ...     NaN     NaN     NaN     NaN   \n",
       "2018-03-01 02:00:00    NaN    NaN    NaN  ...     NaN     NaN     NaN     NaN   \n",
       "2018-03-01 03:00:00    NaN    NaN    NaN  ...     NaN     NaN     NaN     NaN   \n",
       "2018-03-01 04:00:00  124.0    NaN    NaN  ...     NaN     NaN     NaN     NaN   \n",
       "\n",
       "                     lag_26  lag_27  lag_28  lag_29  lag_30  rolling_mean  \n",
       "datetime                                                                   \n",
       "2018-03-01 00:00:00     NaN     NaN     NaN     NaN     NaN           NaN  \n",
       "2018-03-01 01:00:00     NaN     NaN     NaN     NaN     NaN           NaN  \n",
       "2018-03-01 02:00:00     NaN     NaN     NaN     NaN     NaN           NaN  \n",
       "2018-03-01 03:00:00     NaN     NaN     NaN     NaN     NaN           NaN  \n",
       "2018-03-01 04:00:00     NaN     NaN     NaN     NaN     NaN           NaN  \n",
       "\n",
       "[5 rows x 35 columns]"
      ]
     },
     "execution_count": 109,
     "metadata": {},
     "output_type": "execute_result"
    }
   ],
   "source": [
    "data.head()"
   ]
  },
  {
   "cell_type": "markdown",
   "id": "f232fc89",
   "metadata": {},
   "source": [
    "### Раздилим данные и избавимся от пропусков."
   ]
  },
  {
   "cell_type": "markdown",
   "id": "8b16fbfa",
   "metadata": {},
   "source": [
    "Согласно заданию размер тестовой выборки не 10%"
   ]
  },
  {
   "cell_type": "code",
   "execution_count": 110,
   "id": "9e75f03b",
   "metadata": {
    "ExecuteTime": {
     "end_time": "2022-06-25T17:45:00.256663Z",
     "start_time": "2022-06-25T17:45:00.243053Z"
    }
   },
   "outputs": [],
   "source": [
    "train, test = train_test_split(data, shuffle=False, test_size=0.1 )"
   ]
  },
  {
   "cell_type": "code",
   "execution_count": 111,
   "id": "38073332",
   "metadata": {
    "ExecuteTime": {
     "end_time": "2022-06-25T17:45:01.035533Z",
     "start_time": "2022-06-25T17:45:01.016369Z"
    }
   },
   "outputs": [],
   "source": [
    "train_main,valid = train_test_split(train,test_size=0.25,shuffle=False)"
   ]
  },
  {
   "cell_type": "code",
   "execution_count": 112,
   "id": "f4b633e7",
   "metadata": {
    "ExecuteTime": {
     "end_time": "2022-06-25T17:45:02.217422Z",
     "start_time": "2022-06-25T17:45:02.200874Z"
    }
   },
   "outputs": [
    {
     "data": {
      "text/html": [
       "<div>\n",
       "<style scoped>\n",
       "    .dataframe tbody tr th:only-of-type {\n",
       "        vertical-align: middle;\n",
       "    }\n",
       "\n",
       "    .dataframe tbody tr th {\n",
       "        vertical-align: top;\n",
       "    }\n",
       "\n",
       "    .dataframe thead th {\n",
       "        text-align: right;\n",
       "    }\n",
       "</style>\n",
       "<table border=\"1\" class=\"dataframe\">\n",
       "  <thead>\n",
       "    <tr style=\"text-align: right;\">\n",
       "      <th></th>\n",
       "      <th>num_orders</th>\n",
       "      <th>hour</th>\n",
       "      <th>day</th>\n",
       "      <th>dayofweek</th>\n",
       "      <th>lag_1</th>\n",
       "      <th>lag_2</th>\n",
       "      <th>lag_3</th>\n",
       "      <th>lag_4</th>\n",
       "      <th>lag_5</th>\n",
       "      <th>lag_6</th>\n",
       "      <th>...</th>\n",
       "      <th>lag_22</th>\n",
       "      <th>lag_23</th>\n",
       "      <th>lag_24</th>\n",
       "      <th>lag_25</th>\n",
       "      <th>lag_26</th>\n",
       "      <th>lag_27</th>\n",
       "      <th>lag_28</th>\n",
       "      <th>lag_29</th>\n",
       "      <th>lag_30</th>\n",
       "      <th>rolling_mean</th>\n",
       "    </tr>\n",
       "    <tr>\n",
       "      <th>datetime</th>\n",
       "      <th></th>\n",
       "      <th></th>\n",
       "      <th></th>\n",
       "      <th></th>\n",
       "      <th></th>\n",
       "      <th></th>\n",
       "      <th></th>\n",
       "      <th></th>\n",
       "      <th></th>\n",
       "      <th></th>\n",
       "      <th></th>\n",
       "      <th></th>\n",
       "      <th></th>\n",
       "      <th></th>\n",
       "      <th></th>\n",
       "      <th></th>\n",
       "      <th></th>\n",
       "      <th></th>\n",
       "      <th></th>\n",
       "      <th></th>\n",
       "      <th></th>\n",
       "    </tr>\n",
       "  </thead>\n",
       "  <tbody>\n",
       "    <tr>\n",
       "      <th>2018-03-01 00:00:00</th>\n",
       "      <td>124</td>\n",
       "      <td>0</td>\n",
       "      <td>1</td>\n",
       "      <td>3</td>\n",
       "      <td>NaN</td>\n",
       "      <td>NaN</td>\n",
       "      <td>NaN</td>\n",
       "      <td>NaN</td>\n",
       "      <td>NaN</td>\n",
       "      <td>NaN</td>\n",
       "      <td>...</td>\n",
       "      <td>NaN</td>\n",
       "      <td>NaN</td>\n",
       "      <td>NaN</td>\n",
       "      <td>NaN</td>\n",
       "      <td>NaN</td>\n",
       "      <td>NaN</td>\n",
       "      <td>NaN</td>\n",
       "      <td>NaN</td>\n",
       "      <td>NaN</td>\n",
       "      <td>NaN</td>\n",
       "    </tr>\n",
       "    <tr>\n",
       "      <th>2018-03-01 01:00:00</th>\n",
       "      <td>85</td>\n",
       "      <td>1</td>\n",
       "      <td>1</td>\n",
       "      <td>3</td>\n",
       "      <td>124.0</td>\n",
       "      <td>NaN</td>\n",
       "      <td>NaN</td>\n",
       "      <td>NaN</td>\n",
       "      <td>NaN</td>\n",
       "      <td>NaN</td>\n",
       "      <td>...</td>\n",
       "      <td>NaN</td>\n",
       "      <td>NaN</td>\n",
       "      <td>NaN</td>\n",
       "      <td>NaN</td>\n",
       "      <td>NaN</td>\n",
       "      <td>NaN</td>\n",
       "      <td>NaN</td>\n",
       "      <td>NaN</td>\n",
       "      <td>NaN</td>\n",
       "      <td>NaN</td>\n",
       "    </tr>\n",
       "    <tr>\n",
       "      <th>2018-03-01 02:00:00</th>\n",
       "      <td>71</td>\n",
       "      <td>2</td>\n",
       "      <td>1</td>\n",
       "      <td>3</td>\n",
       "      <td>85.0</td>\n",
       "      <td>124.0</td>\n",
       "      <td>NaN</td>\n",
       "      <td>NaN</td>\n",
       "      <td>NaN</td>\n",
       "      <td>NaN</td>\n",
       "      <td>...</td>\n",
       "      <td>NaN</td>\n",
       "      <td>NaN</td>\n",
       "      <td>NaN</td>\n",
       "      <td>NaN</td>\n",
       "      <td>NaN</td>\n",
       "      <td>NaN</td>\n",
       "      <td>NaN</td>\n",
       "      <td>NaN</td>\n",
       "      <td>NaN</td>\n",
       "      <td>NaN</td>\n",
       "    </tr>\n",
       "    <tr>\n",
       "      <th>2018-03-01 03:00:00</th>\n",
       "      <td>66</td>\n",
       "      <td>3</td>\n",
       "      <td>1</td>\n",
       "      <td>3</td>\n",
       "      <td>71.0</td>\n",
       "      <td>85.0</td>\n",
       "      <td>124.0</td>\n",
       "      <td>NaN</td>\n",
       "      <td>NaN</td>\n",
       "      <td>NaN</td>\n",
       "      <td>...</td>\n",
       "      <td>NaN</td>\n",
       "      <td>NaN</td>\n",
       "      <td>NaN</td>\n",
       "      <td>NaN</td>\n",
       "      <td>NaN</td>\n",
       "      <td>NaN</td>\n",
       "      <td>NaN</td>\n",
       "      <td>NaN</td>\n",
       "      <td>NaN</td>\n",
       "      <td>NaN</td>\n",
       "    </tr>\n",
       "    <tr>\n",
       "      <th>2018-03-01 04:00:00</th>\n",
       "      <td>43</td>\n",
       "      <td>4</td>\n",
       "      <td>1</td>\n",
       "      <td>3</td>\n",
       "      <td>66.0</td>\n",
       "      <td>71.0</td>\n",
       "      <td>85.0</td>\n",
       "      <td>124.0</td>\n",
       "      <td>NaN</td>\n",
       "      <td>NaN</td>\n",
       "      <td>...</td>\n",
       "      <td>NaN</td>\n",
       "      <td>NaN</td>\n",
       "      <td>NaN</td>\n",
       "      <td>NaN</td>\n",
       "      <td>NaN</td>\n",
       "      <td>NaN</td>\n",
       "      <td>NaN</td>\n",
       "      <td>NaN</td>\n",
       "      <td>NaN</td>\n",
       "      <td>NaN</td>\n",
       "    </tr>\n",
       "  </tbody>\n",
       "</table>\n",
       "<p>5 rows × 35 columns</p>\n",
       "</div>"
      ],
      "text/plain": [
       "                     num_orders  hour  day  dayofweek  lag_1  lag_2  lag_3  \\\n",
       "datetime                                                                     \n",
       "2018-03-01 00:00:00         124     0    1          3    NaN    NaN    NaN   \n",
       "2018-03-01 01:00:00          85     1    1          3  124.0    NaN    NaN   \n",
       "2018-03-01 02:00:00          71     2    1          3   85.0  124.0    NaN   \n",
       "2018-03-01 03:00:00          66     3    1          3   71.0   85.0  124.0   \n",
       "2018-03-01 04:00:00          43     4    1          3   66.0   71.0   85.0   \n",
       "\n",
       "                     lag_4  lag_5  lag_6  ...  lag_22  lag_23  lag_24  lag_25  \\\n",
       "datetime                                  ...                                   \n",
       "2018-03-01 00:00:00    NaN    NaN    NaN  ...     NaN     NaN     NaN     NaN   \n",
       "2018-03-01 01:00:00    NaN    NaN    NaN  ...     NaN     NaN     NaN     NaN   \n",
       "2018-03-01 02:00:00    NaN    NaN    NaN  ...     NaN     NaN     NaN     NaN   \n",
       "2018-03-01 03:00:00    NaN    NaN    NaN  ...     NaN     NaN     NaN     NaN   \n",
       "2018-03-01 04:00:00  124.0    NaN    NaN  ...     NaN     NaN     NaN     NaN   \n",
       "\n",
       "                     lag_26  lag_27  lag_28  lag_29  lag_30  rolling_mean  \n",
       "datetime                                                                   \n",
       "2018-03-01 00:00:00     NaN     NaN     NaN     NaN     NaN           NaN  \n",
       "2018-03-01 01:00:00     NaN     NaN     NaN     NaN     NaN           NaN  \n",
       "2018-03-01 02:00:00     NaN     NaN     NaN     NaN     NaN           NaN  \n",
       "2018-03-01 03:00:00     NaN     NaN     NaN     NaN     NaN           NaN  \n",
       "2018-03-01 04:00:00     NaN     NaN     NaN     NaN     NaN           NaN  \n",
       "\n",
       "[5 rows x 35 columns]"
      ]
     },
     "execution_count": 112,
     "metadata": {},
     "output_type": "execute_result"
    }
   ],
   "source": [
    "train_main.head()"
   ]
  },
  {
   "cell_type": "code",
   "execution_count": 114,
   "id": "c1efaac3",
   "metadata": {
    "ExecuteTime": {
     "end_time": "2022-06-25T17:48:07.056283Z",
     "start_time": "2022-06-25T17:48:07.029219Z"
    }
   },
   "outputs": [
    {
     "data": {
      "text/html": [
       "<div>\n",
       "<style scoped>\n",
       "    .dataframe tbody tr th:only-of-type {\n",
       "        vertical-align: middle;\n",
       "    }\n",
       "\n",
       "    .dataframe tbody tr th {\n",
       "        vertical-align: top;\n",
       "    }\n",
       "\n",
       "    .dataframe thead th {\n",
       "        text-align: right;\n",
       "    }\n",
       "</style>\n",
       "<table border=\"1\" class=\"dataframe\">\n",
       "  <thead>\n",
       "    <tr style=\"text-align: right;\">\n",
       "      <th></th>\n",
       "      <th>num_orders</th>\n",
       "      <th>hour</th>\n",
       "      <th>day</th>\n",
       "      <th>dayofweek</th>\n",
       "      <th>lag_1</th>\n",
       "      <th>lag_2</th>\n",
       "      <th>lag_3</th>\n",
       "      <th>lag_4</th>\n",
       "      <th>lag_5</th>\n",
       "      <th>lag_6</th>\n",
       "      <th>...</th>\n",
       "      <th>lag_22</th>\n",
       "      <th>lag_23</th>\n",
       "      <th>lag_24</th>\n",
       "      <th>lag_25</th>\n",
       "      <th>lag_26</th>\n",
       "      <th>lag_27</th>\n",
       "      <th>lag_28</th>\n",
       "      <th>lag_29</th>\n",
       "      <th>lag_30</th>\n",
       "      <th>rolling_mean</th>\n",
       "    </tr>\n",
       "    <tr>\n",
       "      <th>datetime</th>\n",
       "      <th></th>\n",
       "      <th></th>\n",
       "      <th></th>\n",
       "      <th></th>\n",
       "      <th></th>\n",
       "      <th></th>\n",
       "      <th></th>\n",
       "      <th></th>\n",
       "      <th></th>\n",
       "      <th></th>\n",
       "      <th></th>\n",
       "      <th></th>\n",
       "      <th></th>\n",
       "      <th></th>\n",
       "      <th></th>\n",
       "      <th></th>\n",
       "      <th></th>\n",
       "      <th></th>\n",
       "      <th></th>\n",
       "      <th></th>\n",
       "      <th></th>\n",
       "    </tr>\n",
       "  </thead>\n",
       "  <tbody>\n",
       "    <tr>\n",
       "      <th>2018-07-03 04:00:00</th>\n",
       "      <td>63</td>\n",
       "      <td>4</td>\n",
       "      <td>3</td>\n",
       "      <td>1</td>\n",
       "      <td>104.0</td>\n",
       "      <td>103.0</td>\n",
       "      <td>121.0</td>\n",
       "      <td>149.0</td>\n",
       "      <td>121.0</td>\n",
       "      <td>71.0</td>\n",
       "      <td>...</td>\n",
       "      <td>33.0</td>\n",
       "      <td>37.0</td>\n",
       "      <td>151.0</td>\n",
       "      <td>148.0</td>\n",
       "      <td>126.0</td>\n",
       "      <td>147.0</td>\n",
       "      <td>188.0</td>\n",
       "      <td>108.0</td>\n",
       "      <td>103.0</td>\n",
       "      <td>100.700000</td>\n",
       "    </tr>\n",
       "    <tr>\n",
       "      <th>2018-07-03 05:00:00</th>\n",
       "      <td>40</td>\n",
       "      <td>5</td>\n",
       "      <td>3</td>\n",
       "      <td>1</td>\n",
       "      <td>63.0</td>\n",
       "      <td>104.0</td>\n",
       "      <td>103.0</td>\n",
       "      <td>121.0</td>\n",
       "      <td>149.0</td>\n",
       "      <td>121.0</td>\n",
       "      <td>...</td>\n",
       "      <td>31.0</td>\n",
       "      <td>33.0</td>\n",
       "      <td>37.0</td>\n",
       "      <td>151.0</td>\n",
       "      <td>148.0</td>\n",
       "      <td>126.0</td>\n",
       "      <td>147.0</td>\n",
       "      <td>188.0</td>\n",
       "      <td>108.0</td>\n",
       "      <td>99.366667</td>\n",
       "    </tr>\n",
       "    <tr>\n",
       "      <th>2018-07-03 06:00:00</th>\n",
       "      <td>34</td>\n",
       "      <td>6</td>\n",
       "      <td>3</td>\n",
       "      <td>1</td>\n",
       "      <td>40.0</td>\n",
       "      <td>63.0</td>\n",
       "      <td>104.0</td>\n",
       "      <td>103.0</td>\n",
       "      <td>121.0</td>\n",
       "      <td>149.0</td>\n",
       "      <td>...</td>\n",
       "      <td>104.0</td>\n",
       "      <td>31.0</td>\n",
       "      <td>33.0</td>\n",
       "      <td>37.0</td>\n",
       "      <td>151.0</td>\n",
       "      <td>148.0</td>\n",
       "      <td>126.0</td>\n",
       "      <td>147.0</td>\n",
       "      <td>188.0</td>\n",
       "      <td>97.100000</td>\n",
       "    </tr>\n",
       "    <tr>\n",
       "      <th>2018-07-03 07:00:00</th>\n",
       "      <td>65</td>\n",
       "      <td>7</td>\n",
       "      <td>3</td>\n",
       "      <td>1</td>\n",
       "      <td>34.0</td>\n",
       "      <td>40.0</td>\n",
       "      <td>63.0</td>\n",
       "      <td>104.0</td>\n",
       "      <td>103.0</td>\n",
       "      <td>121.0</td>\n",
       "      <td>...</td>\n",
       "      <td>84.0</td>\n",
       "      <td>104.0</td>\n",
       "      <td>31.0</td>\n",
       "      <td>33.0</td>\n",
       "      <td>37.0</td>\n",
       "      <td>151.0</td>\n",
       "      <td>148.0</td>\n",
       "      <td>126.0</td>\n",
       "      <td>147.0</td>\n",
       "      <td>91.966667</td>\n",
       "    </tr>\n",
       "    <tr>\n",
       "      <th>2018-07-03 08:00:00</th>\n",
       "      <td>50</td>\n",
       "      <td>8</td>\n",
       "      <td>3</td>\n",
       "      <td>1</td>\n",
       "      <td>65.0</td>\n",
       "      <td>34.0</td>\n",
       "      <td>40.0</td>\n",
       "      <td>63.0</td>\n",
       "      <td>104.0</td>\n",
       "      <td>103.0</td>\n",
       "      <td>...</td>\n",
       "      <td>133.0</td>\n",
       "      <td>84.0</td>\n",
       "      <td>104.0</td>\n",
       "      <td>31.0</td>\n",
       "      <td>33.0</td>\n",
       "      <td>37.0</td>\n",
       "      <td>151.0</td>\n",
       "      <td>148.0</td>\n",
       "      <td>126.0</td>\n",
       "      <td>89.233333</td>\n",
       "    </tr>\n",
       "  </tbody>\n",
       "</table>\n",
       "<p>5 rows × 35 columns</p>\n",
       "</div>"
      ],
      "text/plain": [
       "                     num_orders  hour  day  dayofweek  lag_1  lag_2  lag_3  \\\n",
       "datetime                                                                     \n",
       "2018-07-03 04:00:00          63     4    3          1  104.0  103.0  121.0   \n",
       "2018-07-03 05:00:00          40     5    3          1   63.0  104.0  103.0   \n",
       "2018-07-03 06:00:00          34     6    3          1   40.0   63.0  104.0   \n",
       "2018-07-03 07:00:00          65     7    3          1   34.0   40.0   63.0   \n",
       "2018-07-03 08:00:00          50     8    3          1   65.0   34.0   40.0   \n",
       "\n",
       "                     lag_4  lag_5  lag_6  ...  lag_22  lag_23  lag_24  lag_25  \\\n",
       "datetime                                  ...                                   \n",
       "2018-07-03 04:00:00  149.0  121.0   71.0  ...    33.0    37.0   151.0   148.0   \n",
       "2018-07-03 05:00:00  121.0  149.0  121.0  ...    31.0    33.0    37.0   151.0   \n",
       "2018-07-03 06:00:00  103.0  121.0  149.0  ...   104.0    31.0    33.0    37.0   \n",
       "2018-07-03 07:00:00  104.0  103.0  121.0  ...    84.0   104.0    31.0    33.0   \n",
       "2018-07-03 08:00:00   63.0  104.0  103.0  ...   133.0    84.0   104.0    31.0   \n",
       "\n",
       "                     lag_26  lag_27  lag_28  lag_29  lag_30  rolling_mean  \n",
       "datetime                                                                   \n",
       "2018-07-03 04:00:00   126.0   147.0   188.0   108.0   103.0    100.700000  \n",
       "2018-07-03 05:00:00   148.0   126.0   147.0   188.0   108.0     99.366667  \n",
       "2018-07-03 06:00:00   151.0   148.0   126.0   147.0   188.0     97.100000  \n",
       "2018-07-03 07:00:00    37.0   151.0   148.0   126.0   147.0     91.966667  \n",
       "2018-07-03 08:00:00    33.0    37.0   151.0   148.0   126.0     89.233333  \n",
       "\n",
       "[5 rows x 35 columns]"
      ]
     },
     "execution_count": 114,
     "metadata": {},
     "output_type": "execute_result"
    }
   ],
   "source": [
    "valid.head()"
   ]
  },
  {
   "cell_type": "markdown",
   "id": "35a22139",
   "metadata": {
    "ExecuteTime": {
     "end_time": "2022-06-22T08:13:43.469821Z",
     "start_time": "2022-06-22T08:13:43.454638Z"
    }
   },
   "source": [
    "Всё ок."
   ]
  },
  {
   "cell_type": "markdown",
   "id": "b2598315",
   "metadata": {},
   "source": [
    "<div class=\"alert alert-success\">\n",
    "<b>Комментарий ревьюера:\n",
    "&#9989;</b>  В случае временных рядов в каждом сплите тестовые индексы должны быть позже по времени, чем обучающие, поэтому перетасовка обычным способом неуместна. Так как ты установил shuffle=False, то перетасовка не происходит, но я хотел бы показать тебе специальный инструмент для временных рядов включающий кросс-валидацию TimeSeriesSplit\n",
    "<a href = \"https://scikit-learn.org/stable/modules/generated/sklearn.model_selection.TimeSeriesSplit.html\">Тык</a></div>"
   ]
  },
  {
   "cell_type": "markdown",
   "id": "025586da",
   "metadata": {
    "ExecuteTime": {
     "end_time": "2022-06-22T08:12:08.892353Z",
     "start_time": "2022-06-22T08:12:08.878447Z"
    }
   },
   "source": [
    "Удалим пропуски и создадим таргеты и признаки для обоих выборок"
   ]
  },
  {
   "cell_type": "code",
   "execution_count": 115,
   "id": "1b10409d",
   "metadata": {
    "ExecuteTime": {
     "end_time": "2022-06-25T17:48:13.933339Z",
     "start_time": "2022-06-25T17:48:13.916169Z"
    }
   },
   "outputs": [],
   "source": [
    "train_main = train_main.dropna()# \n",
    "#обучающая выборка\n",
    "X_train=train_main.drop('num_orders',axis=1)\n",
    "y_train=train_main['num_orders']\n",
    "#вылидационная\n",
    "X_valid=valid.drop('num_orders',axis=1)\n",
    "y_valid=valid[['num_orders']]\n",
    "#и тестовая.\n",
    "X_test=test.drop('num_orders',axis=1)\n",
    "y_test=test['num_orders']"
   ]
  },
  {
   "cell_type": "code",
   "execution_count": 116,
   "id": "700b877f",
   "metadata": {
    "ExecuteTime": {
     "end_time": "2022-06-25T17:48:14.786870Z",
     "start_time": "2022-06-25T17:48:14.759217Z"
    }
   },
   "outputs": [
    {
     "data": {
      "text/html": [
       "<div>\n",
       "<style scoped>\n",
       "    .dataframe tbody tr th:only-of-type {\n",
       "        vertical-align: middle;\n",
       "    }\n",
       "\n",
       "    .dataframe tbody tr th {\n",
       "        vertical-align: top;\n",
       "    }\n",
       "\n",
       "    .dataframe thead th {\n",
       "        text-align: right;\n",
       "    }\n",
       "</style>\n",
       "<table border=\"1\" class=\"dataframe\">\n",
       "  <thead>\n",
       "    <tr style=\"text-align: right;\">\n",
       "      <th></th>\n",
       "      <th>hour</th>\n",
       "      <th>day</th>\n",
       "      <th>dayofweek</th>\n",
       "      <th>lag_1</th>\n",
       "      <th>lag_2</th>\n",
       "      <th>lag_3</th>\n",
       "      <th>lag_4</th>\n",
       "      <th>lag_5</th>\n",
       "      <th>lag_6</th>\n",
       "      <th>lag_7</th>\n",
       "      <th>...</th>\n",
       "      <th>lag_22</th>\n",
       "      <th>lag_23</th>\n",
       "      <th>lag_24</th>\n",
       "      <th>lag_25</th>\n",
       "      <th>lag_26</th>\n",
       "      <th>lag_27</th>\n",
       "      <th>lag_28</th>\n",
       "      <th>lag_29</th>\n",
       "      <th>lag_30</th>\n",
       "      <th>rolling_mean</th>\n",
       "    </tr>\n",
       "    <tr>\n",
       "      <th>datetime</th>\n",
       "      <th></th>\n",
       "      <th></th>\n",
       "      <th></th>\n",
       "      <th></th>\n",
       "      <th></th>\n",
       "      <th></th>\n",
       "      <th></th>\n",
       "      <th></th>\n",
       "      <th></th>\n",
       "      <th></th>\n",
       "      <th></th>\n",
       "      <th></th>\n",
       "      <th></th>\n",
       "      <th></th>\n",
       "      <th></th>\n",
       "      <th></th>\n",
       "      <th></th>\n",
       "      <th></th>\n",
       "      <th></th>\n",
       "      <th></th>\n",
       "      <th></th>\n",
       "    </tr>\n",
       "  </thead>\n",
       "  <tbody>\n",
       "    <tr>\n",
       "      <th>2018-03-02 06:00:00</th>\n",
       "      <td>6</td>\n",
       "      <td>2</td>\n",
       "      <td>4</td>\n",
       "      <td>11.0</td>\n",
       "      <td>20.0</td>\n",
       "      <td>64.0</td>\n",
       "      <td>75.0</td>\n",
       "      <td>120.0</td>\n",
       "      <td>90.0</td>\n",
       "      <td>58.0</td>\n",
       "      <td>...</td>\n",
       "      <td>34.0</td>\n",
       "      <td>15.0</td>\n",
       "      <td>12.0</td>\n",
       "      <td>6.0</td>\n",
       "      <td>43.0</td>\n",
       "      <td>66.0</td>\n",
       "      <td>71.0</td>\n",
       "      <td>85.0</td>\n",
       "      <td>124.0</td>\n",
       "      <td>58.133333</td>\n",
       "    </tr>\n",
       "    <tr>\n",
       "      <th>2018-03-02 07:00:00</th>\n",
       "      <td>7</td>\n",
       "      <td>2</td>\n",
       "      <td>4</td>\n",
       "      <td>11.0</td>\n",
       "      <td>11.0</td>\n",
       "      <td>20.0</td>\n",
       "      <td>64.0</td>\n",
       "      <td>75.0</td>\n",
       "      <td>120.0</td>\n",
       "      <td>90.0</td>\n",
       "      <td>...</td>\n",
       "      <td>69.0</td>\n",
       "      <td>34.0</td>\n",
       "      <td>15.0</td>\n",
       "      <td>12.0</td>\n",
       "      <td>6.0</td>\n",
       "      <td>43.0</td>\n",
       "      <td>66.0</td>\n",
       "      <td>71.0</td>\n",
       "      <td>85.0</td>\n",
       "      <td>54.366667</td>\n",
       "    </tr>\n",
       "    <tr>\n",
       "      <th>2018-03-02 08:00:00</th>\n",
       "      <td>8</td>\n",
       "      <td>2</td>\n",
       "      <td>4</td>\n",
       "      <td>7.0</td>\n",
       "      <td>11.0</td>\n",
       "      <td>11.0</td>\n",
       "      <td>20.0</td>\n",
       "      <td>64.0</td>\n",
       "      <td>75.0</td>\n",
       "      <td>120.0</td>\n",
       "      <td>...</td>\n",
       "      <td>64.0</td>\n",
       "      <td>69.0</td>\n",
       "      <td>34.0</td>\n",
       "      <td>15.0</td>\n",
       "      <td>12.0</td>\n",
       "      <td>6.0</td>\n",
       "      <td>43.0</td>\n",
       "      <td>66.0</td>\n",
       "      <td>71.0</td>\n",
       "      <td>51.766667</td>\n",
       "    </tr>\n",
       "    <tr>\n",
       "      <th>2018-03-02 09:00:00</th>\n",
       "      <td>9</td>\n",
       "      <td>2</td>\n",
       "      <td>4</td>\n",
       "      <td>46.0</td>\n",
       "      <td>7.0</td>\n",
       "      <td>11.0</td>\n",
       "      <td>11.0</td>\n",
       "      <td>20.0</td>\n",
       "      <td>64.0</td>\n",
       "      <td>75.0</td>\n",
       "      <td>...</td>\n",
       "      <td>96.0</td>\n",
       "      <td>64.0</td>\n",
       "      <td>69.0</td>\n",
       "      <td>34.0</td>\n",
       "      <td>15.0</td>\n",
       "      <td>12.0</td>\n",
       "      <td>6.0</td>\n",
       "      <td>43.0</td>\n",
       "      <td>66.0</td>\n",
       "      <td>50.933333</td>\n",
       "    </tr>\n",
       "    <tr>\n",
       "      <th>2018-03-02 10:00:00</th>\n",
       "      <td>10</td>\n",
       "      <td>2</td>\n",
       "      <td>4</td>\n",
       "      <td>45.0</td>\n",
       "      <td>46.0</td>\n",
       "      <td>7.0</td>\n",
       "      <td>11.0</td>\n",
       "      <td>11.0</td>\n",
       "      <td>20.0</td>\n",
       "      <td>64.0</td>\n",
       "      <td>...</td>\n",
       "      <td>30.0</td>\n",
       "      <td>96.0</td>\n",
       "      <td>64.0</td>\n",
       "      <td>69.0</td>\n",
       "      <td>34.0</td>\n",
       "      <td>15.0</td>\n",
       "      <td>12.0</td>\n",
       "      <td>6.0</td>\n",
       "      <td>43.0</td>\n",
       "      <td>50.233333</td>\n",
       "    </tr>\n",
       "  </tbody>\n",
       "</table>\n",
       "<p>5 rows × 34 columns</p>\n",
       "</div>"
      ],
      "text/plain": [
       "                     hour  day  dayofweek  lag_1  lag_2  lag_3  lag_4  lag_5  \\\n",
       "datetime                                                                       \n",
       "2018-03-02 06:00:00     6    2          4   11.0   20.0   64.0   75.0  120.0   \n",
       "2018-03-02 07:00:00     7    2          4   11.0   11.0   20.0   64.0   75.0   \n",
       "2018-03-02 08:00:00     8    2          4    7.0   11.0   11.0   20.0   64.0   \n",
       "2018-03-02 09:00:00     9    2          4   46.0    7.0   11.0   11.0   20.0   \n",
       "2018-03-02 10:00:00    10    2          4   45.0   46.0    7.0   11.0   11.0   \n",
       "\n",
       "                     lag_6  lag_7  ...  lag_22  lag_23  lag_24  lag_25  \\\n",
       "datetime                           ...                                   \n",
       "2018-03-02 06:00:00   90.0   58.0  ...    34.0    15.0    12.0     6.0   \n",
       "2018-03-02 07:00:00  120.0   90.0  ...    69.0    34.0    15.0    12.0   \n",
       "2018-03-02 08:00:00   75.0  120.0  ...    64.0    69.0    34.0    15.0   \n",
       "2018-03-02 09:00:00   64.0   75.0  ...    96.0    64.0    69.0    34.0   \n",
       "2018-03-02 10:00:00   20.0   64.0  ...    30.0    96.0    64.0    69.0   \n",
       "\n",
       "                     lag_26  lag_27  lag_28  lag_29  lag_30  rolling_mean  \n",
       "datetime                                                                   \n",
       "2018-03-02 06:00:00    43.0    66.0    71.0    85.0   124.0     58.133333  \n",
       "2018-03-02 07:00:00     6.0    43.0    66.0    71.0    85.0     54.366667  \n",
       "2018-03-02 08:00:00    12.0     6.0    43.0    66.0    71.0     51.766667  \n",
       "2018-03-02 09:00:00    15.0    12.0     6.0    43.0    66.0     50.933333  \n",
       "2018-03-02 10:00:00    34.0    15.0    12.0     6.0    43.0     50.233333  \n",
       "\n",
       "[5 rows x 34 columns]"
      ]
     },
     "execution_count": 116,
     "metadata": {},
     "output_type": "execute_result"
    }
   ],
   "source": [
    "X_train.head()"
   ]
  },
  {
   "cell_type": "markdown",
   "id": "48ef94d4",
   "metadata": {},
   "source": [
    "###  Первая модель.CatBoost"
   ]
  },
  {
   "cell_type": "markdown",
   "id": "b7315f37",
   "metadata": {},
   "source": [
    "<div class=\"alert alert-danger\">\n",
    "<b>Комментарий ревьюера: &#10060; </b> Ок, но это не категориальные фичи</div>"
   ]
  },
  {
   "cell_type": "markdown",
   "id": "e3b97cd5",
   "metadata": {
    "ExecuteTime": {
     "end_time": "2022-06-25T17:52:53.782203Z",
     "start_time": "2022-06-25T17:52:53.766628Z"
    }
   },
   "source": [
    "<div class=\"alert alert-info\"> <b>Комментарий студента:</b>убрал</div>"
   ]
  },
  {
   "cell_type": "markdown",
   "id": "93e66c25",
   "metadata": {},
   "source": [
    "<div class=\"alert alert-success\">\n",
    "<b>Комментарий ревьюера V2:\n",
    "&#9989;</b>Ок! Но вообще ты молодец, что не забываешь их указывать, для кэтбуста и лгбм это важно, т.к. внутри них есть свои алгоритмы обработки фич></div>"
   ]
  },
  {
   "cell_type": "code",
   "execution_count": 119,
   "id": "373962f1",
   "metadata": {
    "ExecuteTime": {
     "end_time": "2022-06-25T17:53:16.635479Z",
     "start_time": "2022-06-25T17:53:16.613203Z"
    }
   },
   "outputs": [],
   "source": [
    "train_data=Pool(data=X_train,\n",
    "               label=y_train,\n",
    "               cat_features=None)"
   ]
  },
  {
   "cell_type": "code",
   "execution_count": 32,
   "id": "767f5b7e",
   "metadata": {
    "ExecuteTime": {
     "end_time": "2022-06-22T09:15:47.015239Z",
     "start_time": "2022-06-22T09:15:47.000537Z"
    }
   },
   "outputs": [],
   "source": [
    "# params = {'cat_features': cat_features,\n",
    "#           'eval_metric': 'RMSE',\n",
    "#           'loss_function': 'RMSE',\n",
    "#           'learning_rate': 0.15,\n",
    "#           'random_seed': 2007,\n",
    "#           'verbose':100}"
   ]
  },
  {
   "cell_type": "code",
   "execution_count": 128,
   "id": "91322a56",
   "metadata": {
    "ExecuteTime": {
     "end_time": "2022-06-25T17:59:31.313007Z",
     "start_time": "2022-06-25T17:59:31.301392Z"
    }
   },
   "outputs": [],
   "source": [
    "\n",
    "parameters={'eval_metric': ['RMSE'],\n",
    "            'loss_function': ['RMSE'],\n",
    "            'learning_rate': [0.1,0,15],\n",
    "            'iterations':[900,100],\n",
    "            'random_seed': [2007],\n",
    "            'verbose':[100]}"
   ]
  },
  {
   "cell_type": "code",
   "execution_count": 129,
   "id": "2cf74ab6",
   "metadata": {
    "ExecuteTime": {
     "end_time": "2022-06-25T17:59:32.198845Z",
     "start_time": "2022-06-25T17:59:32.180919Z"
    }
   },
   "outputs": [],
   "source": [
    "grid_cb=GridSearchCV(CatBoostRegressor(),parameters)"
   ]
  },
  {
   "cell_type": "code",
   "execution_count": 131,
   "id": "66de0911",
   "metadata": {
    "ExecuteTime": {
     "end_time": "2022-06-25T18:01:38.387322Z",
     "start_time": "2022-06-25T18:01:06.250795Z"
    }
   },
   "outputs": [
    {
     "name": "stdout",
     "output_type": "stream",
     "text": [
      "0:\tlearn: 32.5901061\ttotal: 169ms\tremaining: 2m 31s\n",
      "100:\tlearn: 16.8420354\ttotal: 632ms\tremaining: 5s\n",
      "200:\tlearn: 13.1932125\ttotal: 1.1s\tremaining: 3.81s\n",
      "300:\tlearn: 10.7133944\ttotal: 1.51s\tremaining: 3.01s\n",
      "400:\tlearn: 8.9538403\ttotal: 1.93s\tremaining: 2.4s\n",
      "500:\tlearn: 7.4619206\ttotal: 2.34s\tremaining: 1.86s\n",
      "600:\tlearn: 6.2426218\ttotal: 2.76s\tremaining: 1.37s\n",
      "700:\tlearn: 5.2602296\ttotal: 3.17s\tremaining: 902ms\n",
      "800:\tlearn: 4.4229357\ttotal: 3.59s\tremaining: 444ms\n",
      "899:\tlearn: 3.7239064\ttotal: 4s\tremaining: 0us\n",
      "0:\tlearn: 32.9997044\ttotal: 24.4ms\tremaining: 21.9s\n",
      "100:\tlearn: 17.0837155\ttotal: 475ms\tremaining: 3.76s\n",
      "200:\tlearn: 13.2650596\ttotal: 927ms\tremaining: 3.22s\n",
      "300:\tlearn: 10.6301888\ttotal: 1.35s\tremaining: 2.7s\n",
      "400:\tlearn: 8.7441320\ttotal: 1.77s\tremaining: 2.2s\n",
      "500:\tlearn: 7.2745924\ttotal: 2.19s\tremaining: 1.74s\n",
      "600:\tlearn: 6.0661331\ttotal: 2.6s\tremaining: 1.29s\n",
      "700:\tlearn: 5.0587261\ttotal: 3.01s\tremaining: 856ms\n",
      "800:\tlearn: 4.2581973\ttotal: 3.44s\tremaining: 425ms\n",
      "899:\tlearn: 3.5581584\ttotal: 3.86s\tremaining: 0us\n",
      "0:\tlearn: 32.4708142\ttotal: 5.51ms\tremaining: 4.96s\n",
      "100:\tlearn: 16.5517121\ttotal: 462ms\tremaining: 3.66s\n",
      "200:\tlearn: 13.0278046\ttotal: 879ms\tremaining: 3.06s\n",
      "300:\tlearn: 10.5982154\ttotal: 1.32s\tremaining: 2.63s\n",
      "400:\tlearn: 8.7253637\ttotal: 1.84s\tremaining: 2.29s\n",
      "500:\tlearn: 7.3091449\ttotal: 2.25s\tremaining: 1.79s\n",
      "600:\tlearn: 6.0430766\ttotal: 2.67s\tremaining: 1.33s\n",
      "700:\tlearn: 5.0544876\ttotal: 3.29s\tremaining: 933ms\n",
      "800:\tlearn: 4.2744272\ttotal: 3.73s\tremaining: 461ms\n",
      "899:\tlearn: 3.6286206\ttotal: 4.14s\tremaining: 0us\n",
      "0:\tlearn: 32.0498730\ttotal: 6.04ms\tremaining: 5.43s\n",
      "100:\tlearn: 16.3074667\ttotal: 414ms\tremaining: 3.27s\n",
      "200:\tlearn: 12.9122867\ttotal: 820ms\tremaining: 2.85s\n",
      "300:\tlearn: 10.6169707\ttotal: 1.22s\tremaining: 2.42s\n",
      "400:\tlearn: 8.7849964\ttotal: 1.62s\tremaining: 2.02s\n",
      "500:\tlearn: 7.3011742\ttotal: 2.06s\tremaining: 1.64s\n",
      "600:\tlearn: 6.0385369\ttotal: 2.56s\tremaining: 1.27s\n",
      "700:\tlearn: 5.1388394\ttotal: 2.96s\tremaining: 841ms\n",
      "800:\tlearn: 4.3380366\ttotal: 3.37s\tremaining: 416ms\n",
      "899:\tlearn: 3.6541950\ttotal: 3.77s\tremaining: 0us\n",
      "0:\tlearn: 31.4932424\ttotal: 6.41ms\tremaining: 5.76s\n",
      "100:\tlearn: 15.7974966\ttotal: 417ms\tremaining: 3.3s\n",
      "200:\tlearn: 12.5407625\ttotal: 854ms\tremaining: 2.97s\n",
      "300:\tlearn: 10.2975785\ttotal: 1.28s\tremaining: 2.54s\n",
      "400:\tlearn: 8.5119953\ttotal: 1.68s\tremaining: 2.1s\n",
      "500:\tlearn: 7.0096963\ttotal: 2.09s\tremaining: 1.66s\n",
      "600:\tlearn: 5.8268939\ttotal: 2.49s\tremaining: 1.24s\n",
      "700:\tlearn: 4.8898767\ttotal: 2.89s\tremaining: 822ms\n",
      "800:\tlearn: 4.1108241\ttotal: 3.31s\tremaining: 410ms\n",
      "899:\tlearn: 3.4271889\ttotal: 3.73s\tremaining: 0us\n",
      "0:\tlearn: 324.5602021\ttotal: 8.61ms\tremaining: 7.74s\n"
     ]
    },
    {
     "name": "stderr",
     "output_type": "stream",
     "text": [
      "C:\\Users\\polar\\anaconda3\\lib\\site-packages\\sklearn\\model_selection\\_validation.py:615: FitFailedWarning: Estimator fit failed. The score on this train-test partition for these parameters will be set to nan. Details: \n",
      "Traceback (most recent call last):\n",
      "  File \"C:\\Users\\polar\\anaconda3\\lib\\site-packages\\sklearn\\model_selection\\_validation.py\", line 598, in _fit_and_score\n",
      "    estimator.fit(X_train, y_train, **fit_params)\n",
      "  File \"C:\\Users\\polar\\anaconda3\\lib\\site-packages\\catboost\\core.py\", line 5504, in fit\n",
      "    return self._fit(X, y, cat_features, None, None, None, sample_weight, None, None, None, None, baseline,\n",
      "  File \"C:\\Users\\polar\\anaconda3\\lib\\site-packages\\catboost\\core.py\", line 2176, in _fit\n",
      "    train_params = self._prepare_train_params(\n",
      "  File \"C:\\Users\\polar\\anaconda3\\lib\\site-packages\\catboost\\core.py\", line 2108, in _prepare_train_params\n",
      "    _check_train_params(params)\n",
      "  File \"_catboost.pyx\", line 5855, in _catboost._check_train_params\n",
      "  File \"_catboost.pyx\", line 5874, in _catboost._check_train_params\n",
      "_catboost.CatBoostError: C:/Program Files (x86)/Go Agent/pipelines/BuildMaster/catboost.git/catboost/private/libs/options/boosting_options.cpp:79: Learning rate should be non-zero\n",
      "\n",
      "  warnings.warn(\"Estimator fit failed. The score on this train-test\"\n",
      "C:\\Users\\polar\\anaconda3\\lib\\site-packages\\sklearn\\model_selection\\_validation.py:615: FitFailedWarning: Estimator fit failed. The score on this train-test partition for these parameters will be set to nan. Details: \n",
      "Traceback (most recent call last):\n",
      "  File \"C:\\Users\\polar\\anaconda3\\lib\\site-packages\\sklearn\\model_selection\\_validation.py\", line 598, in _fit_and_score\n",
      "    estimator.fit(X_train, y_train, **fit_params)\n",
      "  File \"C:\\Users\\polar\\anaconda3\\lib\\site-packages\\catboost\\core.py\", line 5504, in fit\n",
      "    return self._fit(X, y, cat_features, None, None, None, sample_weight, None, None, None, None, baseline,\n",
      "  File \"C:\\Users\\polar\\anaconda3\\lib\\site-packages\\catboost\\core.py\", line 2176, in _fit\n",
      "    train_params = self._prepare_train_params(\n",
      "  File \"C:\\Users\\polar\\anaconda3\\lib\\site-packages\\catboost\\core.py\", line 2108, in _prepare_train_params\n",
      "    _check_train_params(params)\n",
      "  File \"_catboost.pyx\", line 5855, in _catboost._check_train_params\n",
      "  File \"_catboost.pyx\", line 5874, in _catboost._check_train_params\n",
      "_catboost.CatBoostError: C:/Program Files (x86)/Go Agent/pipelines/BuildMaster/catboost.git/catboost/private/libs/options/boosting_options.cpp:79: Learning rate should be non-zero\n",
      "\n",
      "  warnings.warn(\"Estimator fit failed. The score on this train-test\"\n",
      "C:\\Users\\polar\\anaconda3\\lib\\site-packages\\sklearn\\model_selection\\_validation.py:615: FitFailedWarning: Estimator fit failed. The score on this train-test partition for these parameters will be set to nan. Details: \n",
      "Traceback (most recent call last):\n",
      "  File \"C:\\Users\\polar\\anaconda3\\lib\\site-packages\\sklearn\\model_selection\\_validation.py\", line 598, in _fit_and_score\n",
      "    estimator.fit(X_train, y_train, **fit_params)\n",
      "  File \"C:\\Users\\polar\\anaconda3\\lib\\site-packages\\catboost\\core.py\", line 5504, in fit\n",
      "    return self._fit(X, y, cat_features, None, None, None, sample_weight, None, None, None, None, baseline,\n",
      "  File \"C:\\Users\\polar\\anaconda3\\lib\\site-packages\\catboost\\core.py\", line 2176, in _fit\n",
      "    train_params = self._prepare_train_params(\n",
      "  File \"C:\\Users\\polar\\anaconda3\\lib\\site-packages\\catboost\\core.py\", line 2108, in _prepare_train_params\n",
      "    _check_train_params(params)\n",
      "  File \"_catboost.pyx\", line 5855, in _catboost._check_train_params\n",
      "  File \"_catboost.pyx\", line 5874, in _catboost._check_train_params\n",
      "_catboost.CatBoostError: C:/Program Files (x86)/Go Agent/pipelines/BuildMaster/catboost.git/catboost/private/libs/options/boosting_options.cpp:79: Learning rate should be non-zero\n",
      "\n",
      "  warnings.warn(\"Estimator fit failed. The score on this train-test\"\n",
      "C:\\Users\\polar\\anaconda3\\lib\\site-packages\\sklearn\\model_selection\\_validation.py:615: FitFailedWarning: Estimator fit failed. The score on this train-test partition for these parameters will be set to nan. Details: \n",
      "Traceback (most recent call last):\n",
      "  File \"C:\\Users\\polar\\anaconda3\\lib\\site-packages\\sklearn\\model_selection\\_validation.py\", line 598, in _fit_and_score\n",
      "    estimator.fit(X_train, y_train, **fit_params)\n",
      "  File \"C:\\Users\\polar\\anaconda3\\lib\\site-packages\\catboost\\core.py\", line 5504, in fit\n",
      "    return self._fit(X, y, cat_features, None, None, None, sample_weight, None, None, None, None, baseline,\n",
      "  File \"C:\\Users\\polar\\anaconda3\\lib\\site-packages\\catboost\\core.py\", line 2176, in _fit\n",
      "    train_params = self._prepare_train_params(\n",
      "  File \"C:\\Users\\polar\\anaconda3\\lib\\site-packages\\catboost\\core.py\", line 2108, in _prepare_train_params\n",
      "    _check_train_params(params)\n",
      "  File \"_catboost.pyx\", line 5855, in _catboost._check_train_params\n",
      "  File \"_catboost.pyx\", line 5874, in _catboost._check_train_params\n",
      "_catboost.CatBoostError: C:/Program Files (x86)/Go Agent/pipelines/BuildMaster/catboost.git/catboost/private/libs/options/boosting_options.cpp:79: Learning rate should be non-zero\n",
      "\n",
      "  warnings.warn(\"Estimator fit failed. The score on this train-test\"\n",
      "C:\\Users\\polar\\anaconda3\\lib\\site-packages\\sklearn\\model_selection\\_validation.py:615: FitFailedWarning: Estimator fit failed. The score on this train-test partition for these parameters will be set to nan. Details: \n",
      "Traceback (most recent call last):\n",
      "  File \"C:\\Users\\polar\\anaconda3\\lib\\site-packages\\sklearn\\model_selection\\_validation.py\", line 598, in _fit_and_score\n",
      "    estimator.fit(X_train, y_train, **fit_params)\n",
      "  File \"C:\\Users\\polar\\anaconda3\\lib\\site-packages\\catboost\\core.py\", line 5504, in fit\n",
      "    return self._fit(X, y, cat_features, None, None, None, sample_weight, None, None, None, None, baseline,\n",
      "  File \"C:\\Users\\polar\\anaconda3\\lib\\site-packages\\catboost\\core.py\", line 2176, in _fit\n",
      "    train_params = self._prepare_train_params(\n",
      "  File \"C:\\Users\\polar\\anaconda3\\lib\\site-packages\\catboost\\core.py\", line 2108, in _prepare_train_params\n",
      "    _check_train_params(params)\n",
      "  File \"_catboost.pyx\", line 5855, in _catboost._check_train_params\n",
      "  File \"_catboost.pyx\", line 5874, in _catboost._check_train_params\n",
      "_catboost.CatBoostError: C:/Program Files (x86)/Go Agent/pipelines/BuildMaster/catboost.git/catboost/private/libs/options/boosting_options.cpp:79: Learning rate should be non-zero\n",
      "\n",
      "  warnings.warn(\"Estimator fit failed. The score on this train-test\"\n",
      "learning rate is greater than 1. You probably need to decrease learning rate.\n",
      "learning rate is greater than 1. You probably need to decrease learning rate.\n",
      "learning rate is greater than 1. You probably need to decrease learning rate.\n"
     ]
    },
    {
     "name": "stdout",
     "output_type": "stream",
     "text": [
      "100:\tlearn: 2.6535283689642366e+116\ttotal: 491ms\tremaining: 3.88s\n",
      "0:\tlearn: 320.0222621\ttotal: 6.48ms\tremaining: 5.82s\n"
     ]
    },
    {
     "name": "stderr",
     "output_type": "stream",
     "text": [
      "C:\\Users\\polar\\anaconda3\\lib\\site-packages\\sklearn\\model_selection\\_validation.py:615: FitFailedWarning: Estimator fit failed. The score on this train-test partition for these parameters will be set to nan. Details: \n",
      "Traceback (most recent call last):\n",
      "  File \"C:\\Users\\polar\\anaconda3\\lib\\site-packages\\sklearn\\model_selection\\_validation.py\", line 598, in _fit_and_score\n",
      "    estimator.fit(X_train, y_train, **fit_params)\n",
      "  File \"C:\\Users\\polar\\anaconda3\\lib\\site-packages\\catboost\\core.py\", line 5504, in fit\n",
      "    return self._fit(X, y, cat_features, None, None, None, sample_weight, None, None, None, None, baseline,\n",
      "  File \"C:\\Users\\polar\\anaconda3\\lib\\site-packages\\catboost\\core.py\", line 2192, in _fit\n",
      "    self._train(\n",
      "  File \"C:\\Users\\polar\\anaconda3\\lib\\site-packages\\catboost\\core.py\", line 1619, in _train\n",
      "    self._object._train(train_pool, test_pool, params, allow_clear_pool, init_model._object if init_model else None)\n",
      "  File \"_catboost.pyx\", line 4408, in _catboost._CatBoost._train\n",
      "  File \"_catboost.pyx\", line 4457, in _catboost._CatBoost._train\n",
      "_catboost.CatBoostError: C:/Program Files (x86)/Go Agent/pipelines/BuildMaster/catboost.git/catboost/private/libs/algo/tensor_search_helpers.cpp:543: Too few sampling units (subsample=0.8, bootstrap_type=MVS): please increase sampling rate or disable sampling\n",
      "\n",
      "  warnings.warn(\"Estimator fit failed. The score on this train-test\"\n",
      "learning rate is greater than 1. You probably need to decrease learning rate.\n",
      "learning rate is greater than 1. You probably need to decrease learning rate.\n",
      "learning rate is greater than 1. You probably need to decrease learning rate.\n"
     ]
    },
    {
     "name": "stdout",
     "output_type": "stream",
     "text": [
      "100:\tlearn: 3.4993725870036e+116\ttotal: 437ms\tremaining: 3.46s\n",
      "0:\tlearn: 327.8056887\ttotal: 5.98ms\tremaining: 5.38s\n"
     ]
    },
    {
     "name": "stderr",
     "output_type": "stream",
     "text": [
      "C:\\Users\\polar\\anaconda3\\lib\\site-packages\\sklearn\\model_selection\\_validation.py:615: FitFailedWarning: Estimator fit failed. The score on this train-test partition for these parameters will be set to nan. Details: \n",
      "Traceback (most recent call last):\n",
      "  File \"C:\\Users\\polar\\anaconda3\\lib\\site-packages\\sklearn\\model_selection\\_validation.py\", line 598, in _fit_and_score\n",
      "    estimator.fit(X_train, y_train, **fit_params)\n",
      "  File \"C:\\Users\\polar\\anaconda3\\lib\\site-packages\\catboost\\core.py\", line 5504, in fit\n",
      "    return self._fit(X, y, cat_features, None, None, None, sample_weight, None, None, None, None, baseline,\n",
      "  File \"C:\\Users\\polar\\anaconda3\\lib\\site-packages\\catboost\\core.py\", line 2192, in _fit\n",
      "    self._train(\n",
      "  File \"C:\\Users\\polar\\anaconda3\\lib\\site-packages\\catboost\\core.py\", line 1619, in _train\n",
      "    self._object._train(train_pool, test_pool, params, allow_clear_pool, init_model._object if init_model else None)\n",
      "  File \"_catboost.pyx\", line 4408, in _catboost._CatBoost._train\n",
      "  File \"_catboost.pyx\", line 4457, in _catboost._CatBoost._train\n",
      "_catboost.CatBoostError: C:/Program Files (x86)/Go Agent/pipelines/BuildMaster/catboost.git/catboost/private/libs/algo/tensor_search_helpers.cpp:543: Too few sampling units (subsample=0.8, bootstrap_type=MVS): please increase sampling rate or disable sampling\n",
      "\n",
      "  warnings.warn(\"Estimator fit failed. The score on this train-test\"\n",
      "learning rate is greater than 1. You probably need to decrease learning rate.\n",
      "learning rate is greater than 1. You probably need to decrease learning rate.\n",
      "learning rate is greater than 1. You probably need to decrease learning rate.\n"
     ]
    },
    {
     "name": "stdout",
     "output_type": "stream",
     "text": [
      "100:\tlearn: 3.1033314498212388e+116\ttotal: 421ms\tremaining: 3.33s\n",
      "0:\tlearn: 312.9959380\ttotal: 4.33ms\tremaining: 3.9s\n"
     ]
    },
    {
     "name": "stderr",
     "output_type": "stream",
     "text": [
      "C:\\Users\\polar\\anaconda3\\lib\\site-packages\\sklearn\\model_selection\\_validation.py:615: FitFailedWarning: Estimator fit failed. The score on this train-test partition for these parameters will be set to nan. Details: \n",
      "Traceback (most recent call last):\n",
      "  File \"C:\\Users\\polar\\anaconda3\\lib\\site-packages\\sklearn\\model_selection\\_validation.py\", line 598, in _fit_and_score\n",
      "    estimator.fit(X_train, y_train, **fit_params)\n",
      "  File \"C:\\Users\\polar\\anaconda3\\lib\\site-packages\\catboost\\core.py\", line 5504, in fit\n",
      "    return self._fit(X, y, cat_features, None, None, None, sample_weight, None, None, None, None, baseline,\n",
      "  File \"C:\\Users\\polar\\anaconda3\\lib\\site-packages\\catboost\\core.py\", line 2192, in _fit\n",
      "    self._train(\n",
      "  File \"C:\\Users\\polar\\anaconda3\\lib\\site-packages\\catboost\\core.py\", line 1619, in _train\n",
      "    self._object._train(train_pool, test_pool, params, allow_clear_pool, init_model._object if init_model else None)\n",
      "  File \"_catboost.pyx\", line 4408, in _catboost._CatBoost._train\n",
      "  File \"_catboost.pyx\", line 4457, in _catboost._CatBoost._train\n",
      "_catboost.CatBoostError: C:/Program Files (x86)/Go Agent/pipelines/BuildMaster/catboost.git/catboost/private/libs/algo/tensor_search_helpers.cpp:543: Too few sampling units (subsample=0.8, bootstrap_type=MVS): please increase sampling rate or disable sampling\n",
      "\n",
      "  warnings.warn(\"Estimator fit failed. The score on this train-test\"\n",
      "learning rate is greater than 1. You probably need to decrease learning rate.\n",
      "learning rate is greater than 1. You probably need to decrease learning rate.\n",
      "learning rate is greater than 1. You probably need to decrease learning rate.\n"
     ]
    },
    {
     "name": "stdout",
     "output_type": "stream",
     "text": [
      "100:\tlearn: 3.1984132413728025e+116\ttotal: 449ms\tremaining: 3.55s\n",
      "0:\tlearn: 299.5492504\ttotal: 4.67ms\tremaining: 4.2s\n"
     ]
    },
    {
     "name": "stderr",
     "output_type": "stream",
     "text": [
      "C:\\Users\\polar\\anaconda3\\lib\\site-packages\\sklearn\\model_selection\\_validation.py:615: FitFailedWarning: Estimator fit failed. The score on this train-test partition for these parameters will be set to nan. Details: \n",
      "Traceback (most recent call last):\n",
      "  File \"C:\\Users\\polar\\anaconda3\\lib\\site-packages\\sklearn\\model_selection\\_validation.py\", line 598, in _fit_and_score\n",
      "    estimator.fit(X_train, y_train, **fit_params)\n",
      "  File \"C:\\Users\\polar\\anaconda3\\lib\\site-packages\\catboost\\core.py\", line 5504, in fit\n",
      "    return self._fit(X, y, cat_features, None, None, None, sample_weight, None, None, None, None, baseline,\n",
      "  File \"C:\\Users\\polar\\anaconda3\\lib\\site-packages\\catboost\\core.py\", line 2192, in _fit\n",
      "    self._train(\n",
      "  File \"C:\\Users\\polar\\anaconda3\\lib\\site-packages\\catboost\\core.py\", line 1619, in _train\n",
      "    self._object._train(train_pool, test_pool, params, allow_clear_pool, init_model._object if init_model else None)\n",
      "  File \"_catboost.pyx\", line 4408, in _catboost._CatBoost._train\n",
      "  File \"_catboost.pyx\", line 4457, in _catboost._CatBoost._train\n",
      "_catboost.CatBoostError: C:/Program Files (x86)/Go Agent/pipelines/BuildMaster/catboost.git/catboost/private/libs/algo/tensor_search_helpers.cpp:543: Too few sampling units (subsample=0.8, bootstrap_type=MVS): please increase sampling rate or disable sampling\n",
      "\n",
      "  warnings.warn(\"Estimator fit failed. The score on this train-test\"\n",
      "learning rate is greater than 1. You probably need to decrease learning rate.\n",
      "learning rate is greater than 1. You probably need to decrease learning rate.\n",
      "learning rate is greater than 1. You probably need to decrease learning rate.\n"
     ]
    },
    {
     "name": "stdout",
     "output_type": "stream",
     "text": [
      "100:\tlearn: 3.36699323369753e+116\ttotal: 422ms\tremaining: 3.34s\n",
      "0:\tlearn: 32.5901061\ttotal: 5.24ms\tremaining: 519ms\n"
     ]
    },
    {
     "name": "stderr",
     "output_type": "stream",
     "text": [
      "C:\\Users\\polar\\anaconda3\\lib\\site-packages\\sklearn\\model_selection\\_validation.py:615: FitFailedWarning: Estimator fit failed. The score on this train-test partition for these parameters will be set to nan. Details: \n",
      "Traceback (most recent call last):\n",
      "  File \"C:\\Users\\polar\\anaconda3\\lib\\site-packages\\sklearn\\model_selection\\_validation.py\", line 598, in _fit_and_score\n",
      "    estimator.fit(X_train, y_train, **fit_params)\n",
      "  File \"C:\\Users\\polar\\anaconda3\\lib\\site-packages\\catboost\\core.py\", line 5504, in fit\n",
      "    return self._fit(X, y, cat_features, None, None, None, sample_weight, None, None, None, None, baseline,\n",
      "  File \"C:\\Users\\polar\\anaconda3\\lib\\site-packages\\catboost\\core.py\", line 2192, in _fit\n",
      "    self._train(\n",
      "  File \"C:\\Users\\polar\\anaconda3\\lib\\site-packages\\catboost\\core.py\", line 1619, in _train\n",
      "    self._object._train(train_pool, test_pool, params, allow_clear_pool, init_model._object if init_model else None)\n",
      "  File \"_catboost.pyx\", line 4408, in _catboost._CatBoost._train\n",
      "  File \"_catboost.pyx\", line 4457, in _catboost._CatBoost._train\n",
      "_catboost.CatBoostError: C:/Program Files (x86)/Go Agent/pipelines/BuildMaster/catboost.git/catboost/private/libs/algo/tensor_search_helpers.cpp:543: Too few sampling units (subsample=0.8, bootstrap_type=MVS): please increase sampling rate or disable sampling\n",
      "\n",
      "  warnings.warn(\"Estimator fit failed. The score on this train-test\"\n"
     ]
    },
    {
     "name": "stdout",
     "output_type": "stream",
     "text": [
      "99:\tlearn: 16.8887048\ttotal: 455ms\tremaining: 0us\n",
      "0:\tlearn: 32.9997044\ttotal: 6.08ms\tremaining: 602ms\n",
      "99:\tlearn: 17.0957821\ttotal: 438ms\tremaining: 0us\n",
      "0:\tlearn: 32.4708142\ttotal: 5.95ms\tremaining: 589ms\n",
      "99:\tlearn: 16.5918321\ttotal: 435ms\tremaining: 0us\n",
      "0:\tlearn: 32.0498730\ttotal: 5.01ms\tremaining: 496ms\n",
      "99:\tlearn: 16.3799255\ttotal: 408ms\tremaining: 0us\n",
      "0:\tlearn: 31.4932424\ttotal: 5.51ms\tremaining: 545ms\n",
      "99:\tlearn: 15.8575803\ttotal: 402ms\tremaining: 0us\n",
      "0:\tlearn: 324.5602021\ttotal: 21.8ms\tremaining: 2.16s\n"
     ]
    },
    {
     "name": "stderr",
     "output_type": "stream",
     "text": [
      "C:\\Users\\polar\\anaconda3\\lib\\site-packages\\sklearn\\model_selection\\_validation.py:615: FitFailedWarning: Estimator fit failed. The score on this train-test partition for these parameters will be set to nan. Details: \n",
      "Traceback (most recent call last):\n",
      "  File \"C:\\Users\\polar\\anaconda3\\lib\\site-packages\\sklearn\\model_selection\\_validation.py\", line 598, in _fit_and_score\n",
      "    estimator.fit(X_train, y_train, **fit_params)\n",
      "  File \"C:\\Users\\polar\\anaconda3\\lib\\site-packages\\catboost\\core.py\", line 5504, in fit\n",
      "    return self._fit(X, y, cat_features, None, None, None, sample_weight, None, None, None, None, baseline,\n",
      "  File \"C:\\Users\\polar\\anaconda3\\lib\\site-packages\\catboost\\core.py\", line 2176, in _fit\n",
      "    train_params = self._prepare_train_params(\n",
      "  File \"C:\\Users\\polar\\anaconda3\\lib\\site-packages\\catboost\\core.py\", line 2108, in _prepare_train_params\n",
      "    _check_train_params(params)\n",
      "  File \"_catboost.pyx\", line 5855, in _catboost._check_train_params\n",
      "  File \"_catboost.pyx\", line 5874, in _catboost._check_train_params\n",
      "_catboost.CatBoostError: C:/Program Files (x86)/Go Agent/pipelines/BuildMaster/catboost.git/catboost/private/libs/options/boosting_options.cpp:79: Learning rate should be non-zero\n",
      "\n",
      "  warnings.warn(\"Estimator fit failed. The score on this train-test\"\n",
      "C:\\Users\\polar\\anaconda3\\lib\\site-packages\\sklearn\\model_selection\\_validation.py:615: FitFailedWarning: Estimator fit failed. The score on this train-test partition for these parameters will be set to nan. Details: \n",
      "Traceback (most recent call last):\n",
      "  File \"C:\\Users\\polar\\anaconda3\\lib\\site-packages\\sklearn\\model_selection\\_validation.py\", line 598, in _fit_and_score\n",
      "    estimator.fit(X_train, y_train, **fit_params)\n",
      "  File \"C:\\Users\\polar\\anaconda3\\lib\\site-packages\\catboost\\core.py\", line 5504, in fit\n",
      "    return self._fit(X, y, cat_features, None, None, None, sample_weight, None, None, None, None, baseline,\n",
      "  File \"C:\\Users\\polar\\anaconda3\\lib\\site-packages\\catboost\\core.py\", line 2176, in _fit\n",
      "    train_params = self._prepare_train_params(\n",
      "  File \"C:\\Users\\polar\\anaconda3\\lib\\site-packages\\catboost\\core.py\", line 2108, in _prepare_train_params\n",
      "    _check_train_params(params)\n",
      "  File \"_catboost.pyx\", line 5855, in _catboost._check_train_params\n",
      "  File \"_catboost.pyx\", line 5874, in _catboost._check_train_params\n",
      "_catboost.CatBoostError: C:/Program Files (x86)/Go Agent/pipelines/BuildMaster/catboost.git/catboost/private/libs/options/boosting_options.cpp:79: Learning rate should be non-zero\n",
      "\n",
      "  warnings.warn(\"Estimator fit failed. The score on this train-test\"\n",
      "C:\\Users\\polar\\anaconda3\\lib\\site-packages\\sklearn\\model_selection\\_validation.py:615: FitFailedWarning: Estimator fit failed. The score on this train-test partition for these parameters will be set to nan. Details: \n",
      "Traceback (most recent call last):\n",
      "  File \"C:\\Users\\polar\\anaconda3\\lib\\site-packages\\sklearn\\model_selection\\_validation.py\", line 598, in _fit_and_score\n",
      "    estimator.fit(X_train, y_train, **fit_params)\n",
      "  File \"C:\\Users\\polar\\anaconda3\\lib\\site-packages\\catboost\\core.py\", line 5504, in fit\n",
      "    return self._fit(X, y, cat_features, None, None, None, sample_weight, None, None, None, None, baseline,\n",
      "  File \"C:\\Users\\polar\\anaconda3\\lib\\site-packages\\catboost\\core.py\", line 2176, in _fit\n",
      "    train_params = self._prepare_train_params(\n",
      "  File \"C:\\Users\\polar\\anaconda3\\lib\\site-packages\\catboost\\core.py\", line 2108, in _prepare_train_params\n",
      "    _check_train_params(params)\n",
      "  File \"_catboost.pyx\", line 5855, in _catboost._check_train_params\n",
      "  File \"_catboost.pyx\", line 5874, in _catboost._check_train_params\n",
      "_catboost.CatBoostError: C:/Program Files (x86)/Go Agent/pipelines/BuildMaster/catboost.git/catboost/private/libs/options/boosting_options.cpp:79: Learning rate should be non-zero\n",
      "\n",
      "  warnings.warn(\"Estimator fit failed. The score on this train-test\"\n",
      "C:\\Users\\polar\\anaconda3\\lib\\site-packages\\sklearn\\model_selection\\_validation.py:615: FitFailedWarning: Estimator fit failed. The score on this train-test partition for these parameters will be set to nan. Details: \n",
      "Traceback (most recent call last):\n",
      "  File \"C:\\Users\\polar\\anaconda3\\lib\\site-packages\\sklearn\\model_selection\\_validation.py\", line 598, in _fit_and_score\n",
      "    estimator.fit(X_train, y_train, **fit_params)\n",
      "  File \"C:\\Users\\polar\\anaconda3\\lib\\site-packages\\catboost\\core.py\", line 5504, in fit\n",
      "    return self._fit(X, y, cat_features, None, None, None, sample_weight, None, None, None, None, baseline,\n",
      "  File \"C:\\Users\\polar\\anaconda3\\lib\\site-packages\\catboost\\core.py\", line 2176, in _fit\n",
      "    train_params = self._prepare_train_params(\n",
      "  File \"C:\\Users\\polar\\anaconda3\\lib\\site-packages\\catboost\\core.py\", line 2108, in _prepare_train_params\n",
      "    _check_train_params(params)\n",
      "  File \"_catboost.pyx\", line 5855, in _catboost._check_train_params\n",
      "  File \"_catboost.pyx\", line 5874, in _catboost._check_train_params\n",
      "_catboost.CatBoostError: C:/Program Files (x86)/Go Agent/pipelines/BuildMaster/catboost.git/catboost/private/libs/options/boosting_options.cpp:79: Learning rate should be non-zero\n",
      "\n",
      "  warnings.warn(\"Estimator fit failed. The score on this train-test\"\n",
      "C:\\Users\\polar\\anaconda3\\lib\\site-packages\\sklearn\\model_selection\\_validation.py:615: FitFailedWarning: Estimator fit failed. The score on this train-test partition for these parameters will be set to nan. Details: \n",
      "Traceback (most recent call last):\n",
      "  File \"C:\\Users\\polar\\anaconda3\\lib\\site-packages\\sklearn\\model_selection\\_validation.py\", line 598, in _fit_and_score\n",
      "    estimator.fit(X_train, y_train, **fit_params)\n",
      "  File \"C:\\Users\\polar\\anaconda3\\lib\\site-packages\\catboost\\core.py\", line 5504, in fit\n",
      "    return self._fit(X, y, cat_features, None, None, None, sample_weight, None, None, None, None, baseline,\n",
      "  File \"C:\\Users\\polar\\anaconda3\\lib\\site-packages\\catboost\\core.py\", line 2176, in _fit\n",
      "    train_params = self._prepare_train_params(\n",
      "  File \"C:\\Users\\polar\\anaconda3\\lib\\site-packages\\catboost\\core.py\", line 2108, in _prepare_train_params\n",
      "    _check_train_params(params)\n",
      "  File \"_catboost.pyx\", line 5855, in _catboost._check_train_params\n",
      "  File \"_catboost.pyx\", line 5874, in _catboost._check_train_params\n",
      "_catboost.CatBoostError: C:/Program Files (x86)/Go Agent/pipelines/BuildMaster/catboost.git/catboost/private/libs/options/boosting_options.cpp:79: Learning rate should be non-zero\n",
      "\n",
      "  warnings.warn(\"Estimator fit failed. The score on this train-test\"\n",
      "learning rate is greater than 1. You probably need to decrease learning rate.\n",
      "learning rate is greater than 1. You probably need to decrease learning rate.\n",
      "learning rate is greater than 1. You probably need to decrease learning rate.\n"
     ]
    },
    {
     "name": "stdout",
     "output_type": "stream",
     "text": [
      "99:\tlearn: 1.9221801538472023e+115\ttotal: 462ms\tremaining: 0us\n",
      "0:\tlearn: 320.0222621\ttotal: 4.67ms\tremaining: 462ms\n"
     ]
    },
    {
     "name": "stderr",
     "output_type": "stream",
     "text": [
      "learning rate is greater than 1. You probably need to decrease learning rate.\n",
      "learning rate is greater than 1. You probably need to decrease learning rate.\n",
      "learning rate is greater than 1. You probably need to decrease learning rate.\n"
     ]
    },
    {
     "name": "stdout",
     "output_type": "stream",
     "text": [
      "99:\tlearn: 2.5229249222755025e+115\ttotal: 421ms\tremaining: 0us\n",
      "0:\tlearn: 327.8056887\ttotal: 21.8ms\tremaining: 2.15s\n"
     ]
    },
    {
     "name": "stderr",
     "output_type": "stream",
     "text": [
      "learning rate is greater than 1. You probably need to decrease learning rate.\n",
      "learning rate is greater than 1. You probably need to decrease learning rate.\n",
      "learning rate is greater than 1. You probably need to decrease learning rate.\n"
     ]
    },
    {
     "name": "stdout",
     "output_type": "stream",
     "text": [
      "99:\tlearn: 2.2442767784348903e+115\ttotal: 497ms\tremaining: 0us\n",
      "0:\tlearn: 312.9959380\ttotal: 5.44ms\tremaining: 538ms\n"
     ]
    },
    {
     "name": "stderr",
     "output_type": "stream",
     "text": [
      "learning rate is greater than 1. You probably need to decrease learning rate.\n",
      "learning rate is greater than 1. You probably need to decrease learning rate.\n",
      "learning rate is greater than 1. You probably need to decrease learning rate.\n"
     ]
    },
    {
     "name": "stdout",
     "output_type": "stream",
     "text": [
      "99:\tlearn: 2.3084673899842985e+115\ttotal: 563ms\tremaining: 0us\n",
      "0:\tlearn: 299.5492504\ttotal: 5.63ms\tremaining: 557ms\n"
     ]
    },
    {
     "name": "stderr",
     "output_type": "stream",
     "text": [
      "learning rate is greater than 1. You probably need to decrease learning rate.\n",
      "learning rate is greater than 1. You probably need to decrease learning rate.\n",
      "learning rate is greater than 1. You probably need to decrease learning rate.\n"
     ]
    },
    {
     "name": "stdout",
     "output_type": "stream",
     "text": [
      "99:\tlearn: 2.4283600796312063e+115\ttotal: 419ms\tremaining: 0us\n",
      "0:\tlearn: 32.3708396\ttotal: 4.85ms\tremaining: 4.36s\n"
     ]
    },
    {
     "name": "stderr",
     "output_type": "stream",
     "text": [
      "C:\\Users\\polar\\anaconda3\\lib\\site-packages\\sklearn\\model_selection\\_search.py:922: UserWarning: One or more of the test scores are non-finite: [ 5.68493150e-001              nan              nan  5.63140206e-001\n",
      "              nan -4.76692228e+227]\n",
      "  warnings.warn(\n",
      "C:\\Users\\polar\\anaconda3\\lib\\site-packages\\sklearn\\model_selection\\_search.py:929: RuntimeWarning: overflow encountered in square\n",
      "  array_stds = np.sqrt(np.average((array -\n"
     ]
    },
    {
     "name": "stdout",
     "output_type": "stream",
     "text": [
      "100:\tlearn: 17.0434990\ttotal: 430ms\tremaining: 3.4s\n",
      "200:\tlearn: 13.8402402\ttotal: 850ms\tremaining: 2.96s\n",
      "300:\tlearn: 11.6609459\ttotal: 1.27s\tremaining: 2.53s\n",
      "400:\tlearn: 9.8778293\ttotal: 1.72s\tremaining: 2.14s\n",
      "500:\tlearn: 8.3638546\ttotal: 2.15s\tremaining: 1.71s\n",
      "600:\tlearn: 7.1570355\ttotal: 2.62s\tremaining: 1.3s\n",
      "700:\tlearn: 6.1883716\ttotal: 3.04s\tremaining: 862ms\n",
      "800:\tlearn: 5.4130778\ttotal: 3.45s\tremaining: 427ms\n",
      "899:\tlearn: 4.7163102\ttotal: 3.87s\tremaining: 0us\n"
     ]
    },
    {
     "data": {
      "text/plain": [
       "GridSearchCV(estimator=<catboost.core.CatBoostRegressor object at 0x0000021D044D5400>,\n",
       "             param_grid={'eval_metric': ['RMSE'], 'iterations': [900, 100],\n",
       "                         'learning_rate': [0.1, 0, 15],\n",
       "                         'loss_function': ['RMSE'], 'random_seed': [2007],\n",
       "                         'verbose': [100]})"
      ]
     },
     "execution_count": 131,
     "metadata": {},
     "output_type": "execute_result"
    }
   ],
   "source": [
    "grid_cb.fit(X_train,y_train)"
   ]
  },
  {
   "cell_type": "code",
   "execution_count": 132,
   "id": "ebb52252",
   "metadata": {
    "ExecuteTime": {
     "end_time": "2022-06-25T18:02:47.243024Z",
     "start_time": "2022-06-25T18:02:47.233366Z"
    }
   },
   "outputs": [
    {
     "data": {
      "text/plain": [
       "{'eval_metric': 'RMSE',\n",
       " 'iterations': 900,\n",
       " 'learning_rate': 0.1,\n",
       " 'loss_function': 'RMSE',\n",
       " 'random_seed': 2007,\n",
       " 'verbose': 100}"
      ]
     },
     "execution_count": 132,
     "metadata": {},
     "output_type": "execute_result"
    }
   ],
   "source": [
    "grid_cb.best_params_"
   ]
  },
  {
   "cell_type": "code",
   "execution_count": 134,
   "id": "c37af516",
   "metadata": {
    "ExecuteTime": {
     "end_time": "2022-06-25T18:05:01.422320Z",
     "start_time": "2022-06-25T18:05:01.404659Z"
    }
   },
   "outputs": [],
   "source": [
    "cb_best=grid_cb.best_estimator_"
   ]
  },
  {
   "cell_type": "code",
   "execution_count": 135,
   "id": "74690ed6",
   "metadata": {
    "ExecuteTime": {
     "end_time": "2022-06-25T18:05:48.576265Z",
     "start_time": "2022-06-25T18:05:48.563624Z"
    }
   },
   "outputs": [],
   "source": [
    "cb_pred=cb_best.predict(X_valid)"
   ]
  },
  {
   "cell_type": "code",
   "execution_count": 136,
   "id": "e03d4d63",
   "metadata": {
    "ExecuteTime": {
     "end_time": "2022-06-25T18:05:50.651794Z",
     "start_time": "2022-06-25T18:05:50.643639Z"
    }
   },
   "outputs": [
    {
     "data": {
      "text/plain": [
       "30.74627315916711"
      ]
     },
     "execution_count": 136,
     "metadata": {},
     "output_type": "execute_result"
    }
   ],
   "source": [
    "mean_squared_error(y_valid,cb_pred)**0.5"
   ]
  },
  {
   "cell_type": "markdown",
   "id": "956a3b06",
   "metadata": {},
   "source": [
    "RMSE=30.74"
   ]
  },
  {
   "cell_type": "markdown",
   "id": "5052b1c0",
   "metadata": {},
   "source": [
    "<div class=\"alert alert-danger\">\n",
    "<b>Комментарий ревьюера: &#10060; </b> В задании есть пункт: \"Обучите разные модели с различными гиперпараметрами\". Добавь, пожалуйста </div>"
   ]
  },
  {
   "cell_type": "markdown",
   "id": "bea24258",
   "metadata": {
    "ExecuteTime": {
     "end_time": "2022-06-25T18:08:01.329889Z",
     "start_time": "2022-06-25T18:08:01.313958Z"
    }
   },
   "source": [
    "<div class=\"alert alert-info\"> <b>Коментарий</b>Перебрал параметры ,убрал категориальные фичи. Результат стал лучше</div>"
   ]
  },
  {
   "cell_type": "markdown",
   "id": "f5c2630d",
   "metadata": {},
   "source": [
    "<div class=\"alert alert-success\">\n",
    "<b>Комментарий ревьюера:\n",
    "&#9989;</b> Отлично! При большом переборе параметров лучше использовать RandomisedSearchCV, дальше тюнить гридом в области лучших параметров. А еще лучше оствоить пайплайны! Они тебе облегчат жизнь!)</div>"
   ]
  },
  {
   "cell_type": "markdown",
   "id": "c140b159",
   "metadata": {},
   "source": [
    "### Вторая модель.LinearRegression"
   ]
  },
  {
   "cell_type": "code",
   "execution_count": 138,
   "id": "a1734985",
   "metadata": {
    "ExecuteTime": {
     "end_time": "2022-06-25T18:08:06.122027Z",
     "start_time": "2022-06-25T18:08:06.117400Z"
    }
   },
   "outputs": [],
   "source": [
    "lr_model=LinearRegression()"
   ]
  },
  {
   "cell_type": "code",
   "execution_count": 139,
   "id": "e91e4d09",
   "metadata": {
    "ExecuteTime": {
     "end_time": "2022-06-25T18:08:06.881799Z",
     "start_time": "2022-06-25T18:08:06.822965Z"
    }
   },
   "outputs": [
    {
     "data": {
      "text/plain": [
       "LinearRegression()"
      ]
     },
     "execution_count": 139,
     "metadata": {},
     "output_type": "execute_result"
    }
   ],
   "source": [
    "lr_model.fit(X_train,y_train)"
   ]
  },
  {
   "cell_type": "code",
   "execution_count": 140,
   "id": "f567a5cd",
   "metadata": {
    "ExecuteTime": {
     "end_time": "2022-06-25T18:08:08.738270Z",
     "start_time": "2022-06-25T18:08:08.723160Z"
    }
   },
   "outputs": [],
   "source": [
    "lr_pred=lr_model.predict(X_valid)"
   ]
  },
  {
   "cell_type": "code",
   "execution_count": 141,
   "id": "dcb80e95",
   "metadata": {
    "ExecuteTime": {
     "end_time": "2022-06-25T18:08:09.294685Z",
     "start_time": "2022-06-25T18:08:09.279728Z"
    }
   },
   "outputs": [
    {
     "data": {
      "text/plain": [
       "32.62915523170604"
      ]
     },
     "execution_count": 141,
     "metadata": {},
     "output_type": "execute_result"
    }
   ],
   "source": [
    "mean_squared_error(y_valid,lr_pred)**0.5"
   ]
  },
  {
   "cell_type": "markdown",
   "id": "c5fdbf7d",
   "metadata": {},
   "source": [
    "<div class=\"alert alert-success\">\n",
    "<b>Комментарий ревьюера:\n",
    "&#9989;</b> Хорошо!</div>"
   ]
  },
  {
   "cell_type": "markdown",
   "id": "7bba9b31",
   "metadata": {
    "ExecuteTime": {
     "end_time": "2022-06-22T08:49:33.659709Z",
     "start_time": "2022-06-22T08:49:33.642070Z"
    }
   },
   "source": [
    "Получился примерно такой же результат как на CatBoost"
   ]
  },
  {
   "cell_type": "markdown",
   "id": "1a880f45",
   "metadata": {},
   "source": [
    "## Проверим на тестовой выборке."
   ]
  },
  {
   "cell_type": "markdown",
   "id": "71c1357c",
   "metadata": {},
   "source": [
    "Так для времянных рядов важно чтобы даныые шли по порядку и не было разрывом(а я создавал валидационную выборку-разрыв), то преобучим наши модели на всех данных  до тестовой выбоки. Создадим обучающую выборку."
   ]
  },
  {
   "cell_type": "code",
   "execution_count": 142,
   "id": "ba2d013e",
   "metadata": {
    "ExecuteTime": {
     "end_time": "2022-06-25T18:08:24.105001Z",
     "start_time": "2022-06-25T18:08:24.089899Z"
    }
   },
   "outputs": [],
   "source": [
    "train=train.dropna()"
   ]
  },
  {
   "cell_type": "code",
   "execution_count": 143,
   "id": "6859d1e6",
   "metadata": {
    "ExecuteTime": {
     "end_time": "2022-06-25T18:08:24.586694Z",
     "start_time": "2022-06-25T18:08:24.578448Z"
    }
   },
   "outputs": [],
   "source": [
    "X=train.drop('num_orders',axis=1)"
   ]
  },
  {
   "cell_type": "code",
   "execution_count": 144,
   "id": "515afaba",
   "metadata": {
    "ExecuteTime": {
     "end_time": "2022-06-25T18:08:25.087410Z",
     "start_time": "2022-06-25T18:08:25.069128Z"
    }
   },
   "outputs": [],
   "source": [
    "y=train['num_orders']"
   ]
  },
  {
   "cell_type": "markdown",
   "id": "5a247b9a",
   "metadata": {
    "ExecuteTime": {
     "end_time": "2022-06-25T18:09:45.003546Z",
     "start_time": "2022-06-25T18:09:44.997960Z"
    }
   },
   "source": [
    "Переучим наш CatBoost"
   ]
  },
  {
   "cell_type": "code",
   "execution_count": 145,
   "id": "1ddab2b6",
   "metadata": {
    "ExecuteTime": {
     "end_time": "2022-06-25T18:09:25.415274Z",
     "start_time": "2022-06-25T18:09:20.409601Z"
    }
   },
   "outputs": [
    {
     "name": "stdout",
     "output_type": "stream",
     "text": [
      "0:\tlearn: 36.8721984\ttotal: 7.48ms\tremaining: 6.72s\n",
      "100:\tlearn: 19.5682760\ttotal: 532ms\tremaining: 4.21s\n",
      "200:\tlearn: 16.0719366\ttotal: 1.13s\tremaining: 3.92s\n",
      "300:\tlearn: 13.7497688\ttotal: 1.65s\tremaining: 3.28s\n",
      "400:\tlearn: 12.0436036\ttotal: 2.16s\tremaining: 2.69s\n",
      "500:\tlearn: 10.5397591\ttotal: 2.68s\tremaining: 2.13s\n",
      "600:\tlearn: 9.3343652\ttotal: 3.18s\tremaining: 1.58s\n",
      "700:\tlearn: 8.2750083\ttotal: 3.71s\tremaining: 1.05s\n",
      "800:\tlearn: 7.4153800\ttotal: 4.28s\tremaining: 529ms\n",
      "899:\tlearn: 6.6478957\ttotal: 4.83s\tremaining: 0us\n"
     ]
    },
    {
     "data": {
      "text/plain": [
       "<catboost.core.CatBoostRegressor at 0x21d07f0cfd0>"
      ]
     },
     "execution_count": 145,
     "metadata": {},
     "output_type": "execute_result"
    }
   ],
   "source": [
    "cb_best.fit(X,y)"
   ]
  },
  {
   "cell_type": "code",
   "execution_count": 147,
   "id": "afdc7287",
   "metadata": {
    "ExecuteTime": {
     "end_time": "2022-06-25T18:10:42.124655Z",
     "start_time": "2022-06-25T18:10:42.107227Z"
    }
   },
   "outputs": [],
   "source": [
    "final_predict=cb_best.predict(X_test)"
   ]
  },
  {
   "cell_type": "code",
   "execution_count": 148,
   "id": "474324af",
   "metadata": {
    "ExecuteTime": {
     "end_time": "2022-06-25T18:10:46.217481Z",
     "start_time": "2022-06-25T18:10:46.203718Z"
    }
   },
   "outputs": [
    {
     "data": {
      "text/plain": [
       "40.11651490905948"
      ]
     },
     "execution_count": 148,
     "metadata": {},
     "output_type": "execute_result"
    }
   ],
   "source": [
    "mean_squared_error(y_test,final_predict)**0.5"
   ]
  },
  {
   "cell_type": "markdown",
   "id": "58f8631a",
   "metadata": {},
   "source": [
    "RMSE=40.11 Для CatBoost"
   ]
  },
  {
   "cell_type": "code",
   "execution_count": 149,
   "id": "563e184c",
   "metadata": {
    "ExecuteTime": {
     "end_time": "2022-06-25T18:11:03.257530Z",
     "start_time": "2022-06-25T18:11:03.234336Z"
    }
   },
   "outputs": [
    {
     "data": {
      "text/plain": [
       "LinearRegression()"
      ]
     },
     "execution_count": 149,
     "metadata": {},
     "output_type": "execute_result"
    }
   ],
   "source": [
    "lr_model.fit(X,y)"
   ]
  },
  {
   "cell_type": "code",
   "execution_count": 150,
   "id": "4065fa7c",
   "metadata": {
    "ExecuteTime": {
     "end_time": "2022-06-25T18:11:04.113123Z",
     "start_time": "2022-06-25T18:11:04.104813Z"
    }
   },
   "outputs": [],
   "source": [
    "final_predict=lr_model.predict(X_test)"
   ]
  },
  {
   "cell_type": "code",
   "execution_count": 151,
   "id": "b68e6fac",
   "metadata": {
    "ExecuteTime": {
     "end_time": "2022-06-25T18:11:04.922881Z",
     "start_time": "2022-06-25T18:11:04.907455Z"
    }
   },
   "outputs": [
    {
     "data": {
      "text/plain": [
       "45.108145168143324"
      ]
     },
     "execution_count": 151,
     "metadata": {},
     "output_type": "execute_result"
    }
   ],
   "source": [
    "mean_squared_error(y_test,final_predict)**0.5"
   ]
  },
  {
   "cell_type": "markdown",
   "id": "45d54a8e",
   "metadata": {},
   "source": [
    "<div class=\"alert alert-success\">\n",
    "<b>Комментарий ревьюера:\n",
    "&#9989;</b> Молодец!</div>"
   ]
  },
  {
   "cell_type": "markdown",
   "id": "a7b8246b",
   "metadata": {},
   "source": [
    "И 45.1 для LinearRegression"
   ]
  },
  {
   "cell_type": "markdown",
   "id": "0db068e6",
   "metadata": {},
   "source": [
    "## Общий ВЫВОД"
   ]
  },
  {
   "cell_type": "markdown",
   "id": "c8ab823e",
   "metadata": {},
   "source": [
    "**Для увеличения качества модели для времянных важно количество фичей таких как сдвиги и сглаживание. А также необходимо анализировать измение данных от времени. Возможно есть зависимости от дней недели , времени суток и т.д. \n",
    "Я использовал модели от CatBoost и LinearRegression. с результатом на тестовой выборке 43.37 и 46.38 соответсвенно.Оба показателя соответсвуют заднию (не больше 48). Возможно можно было ещё улучшить качество добавив больше лагов и сглаживая. \n",
    "Я думал что CatBoost проявит себя хуже так как в основе лежит \"случайны лес\" и это хуже для рядов чем линейная регрессия. Но я ошибся.**"
   ]
  },
  {
   "cell_type": "markdown",
   "id": "97e1ad8f",
   "metadata": {},
   "source": [
    "<b>Комментарий ревьюера: &#10060; </b> Молодец! Хорошая работа. К сожалению, сейчас я не могу принять твой проект, так как есть ряд замечаний, которые нужно исправить:\n",
    "- путь к датасету\n",
    "- средние и стандартные отклонения на окнах одного размера\n",
    "- признак 'month' в модели\n",
    "- пункт: \"Обучите разные модели с различными гиперпараметрами\"\n",
    "\n",
    "Так же советую присмотреться к использованию TimeSeriesSplit! Жду скорейших исправлений, успехов и удачи!"
   ]
  },
  {
   "cell_type": "markdown",
   "id": "6bce5ba1",
   "metadata": {
    "ExecuteTime": {
     "end_time": "2022-06-25T18:12:56.764226Z",
     "start_time": "2022-06-25T18:12:56.751858Z"
    }
   },
   "source": [
    "<div class=\"alert alert-info\"> <b>Коментарий</b>Исправил что мог) Жду коментариев(особенно по сезонности.) СПАСИБО!</div>"
   ]
  },
  {
   "cell_type": "markdown",
   "id": "a9da3dfe",
   "metadata": {},
   "source": [
    "<b>Комментарий ревьюера: &#9989; </b> Молодец, все критические замечания учтены, по поводу визуализации скинул пример, впринципе там много чего можно посмотреть и вывести) В документации все подробно расписано, я лучше не напишу) Работа зачтена, успехов и удачи в освоении DS! Если остались какие-либо вопросы, ты можешь их передать через своего куратора)"
   ]
  }
 ],
 "metadata": {
  "ExecuteTimeLog": [
   {
    "duration": 1529,
    "start_time": "2022-06-22T12:31:19.339Z"
   },
   {
    "duration": 199,
    "start_time": "2022-06-22T12:31:20.871Z"
   },
   {
    "duration": 0,
    "start_time": "2022-06-22T12:31:21.073Z"
   },
   {
    "duration": 0,
    "start_time": "2022-06-22T12:31:21.075Z"
   },
   {
    "duration": 0,
    "start_time": "2022-06-22T12:31:21.076Z"
   },
   {
    "duration": 0,
    "start_time": "2022-06-22T12:31:21.077Z"
   },
   {
    "duration": 0,
    "start_time": "2022-06-22T12:31:21.077Z"
   },
   {
    "duration": 0,
    "start_time": "2022-06-22T12:31:21.079Z"
   },
   {
    "duration": 0,
    "start_time": "2022-06-22T12:31:21.080Z"
   },
   {
    "duration": 0,
    "start_time": "2022-06-22T12:31:21.080Z"
   },
   {
    "duration": 0,
    "start_time": "2022-06-22T12:31:21.081Z"
   },
   {
    "duration": 0,
    "start_time": "2022-06-22T12:31:21.083Z"
   },
   {
    "duration": 0,
    "start_time": "2022-06-22T12:31:21.083Z"
   },
   {
    "duration": 0,
    "start_time": "2022-06-22T12:31:21.085Z"
   },
   {
    "duration": 0,
    "start_time": "2022-06-22T12:31:21.086Z"
   },
   {
    "duration": 0,
    "start_time": "2022-06-22T12:31:21.087Z"
   },
   {
    "duration": 0,
    "start_time": "2022-06-22T12:31:21.088Z"
   },
   {
    "duration": 0,
    "start_time": "2022-06-22T12:31:21.089Z"
   },
   {
    "duration": 0,
    "start_time": "2022-06-22T12:31:21.090Z"
   },
   {
    "duration": 0,
    "start_time": "2022-06-22T12:31:21.091Z"
   },
   {
    "duration": 0,
    "start_time": "2022-06-22T12:31:21.091Z"
   },
   {
    "duration": 0,
    "start_time": "2022-06-22T12:31:21.092Z"
   },
   {
    "duration": 0,
    "start_time": "2022-06-22T12:31:21.093Z"
   },
   {
    "duration": 0,
    "start_time": "2022-06-22T12:31:21.094Z"
   },
   {
    "duration": 0,
    "start_time": "2022-06-22T12:31:21.095Z"
   },
   {
    "duration": 0,
    "start_time": "2022-06-22T12:31:21.096Z"
   },
   {
    "duration": 0,
    "start_time": "2022-06-22T12:31:21.098Z"
   },
   {
    "duration": 0,
    "start_time": "2022-06-22T12:31:21.099Z"
   },
   {
    "duration": 0,
    "start_time": "2022-06-22T12:31:21.100Z"
   },
   {
    "duration": 0,
    "start_time": "2022-06-22T12:31:21.101Z"
   },
   {
    "duration": 0,
    "start_time": "2022-06-22T12:31:21.102Z"
   },
   {
    "duration": 0,
    "start_time": "2022-06-22T12:31:21.103Z"
   },
   {
    "duration": 0,
    "start_time": "2022-06-22T12:31:21.104Z"
   },
   {
    "duration": 0,
    "start_time": "2022-06-22T12:31:21.104Z"
   },
   {
    "duration": 0,
    "start_time": "2022-06-22T12:31:21.106Z"
   },
   {
    "duration": 0,
    "start_time": "2022-06-22T12:31:21.107Z"
   },
   {
    "duration": 0,
    "start_time": "2022-06-22T12:31:21.152Z"
   },
   {
    "duration": 0,
    "start_time": "2022-06-22T12:31:21.153Z"
   },
   {
    "duration": 0,
    "start_time": "2022-06-22T12:31:21.155Z"
   },
   {
    "duration": 0,
    "start_time": "2022-06-22T12:31:21.156Z"
   },
   {
    "duration": 0,
    "start_time": "2022-06-22T12:31:21.157Z"
   },
   {
    "duration": 0,
    "start_time": "2022-06-22T12:31:21.158Z"
   },
   {
    "duration": 0,
    "start_time": "2022-06-22T12:31:21.159Z"
   },
   {
    "duration": 0,
    "start_time": "2022-06-22T12:31:21.160Z"
   },
   {
    "duration": 0,
    "start_time": "2022-06-22T12:31:21.161Z"
   },
   {
    "duration": 0,
    "start_time": "2022-06-22T12:31:21.162Z"
   },
   {
    "duration": 0,
    "start_time": "2022-06-22T12:31:21.163Z"
   },
   {
    "duration": 0,
    "start_time": "2022-06-22T12:31:21.164Z"
   },
   {
    "duration": 0,
    "start_time": "2022-06-22T12:31:21.165Z"
   },
   {
    "duration": 77,
    "start_time": "2022-06-22T12:32:55.118Z"
   },
   {
    "duration": 114,
    "start_time": "2022-06-22T12:33:17.414Z"
   },
   {
    "duration": 1474,
    "start_time": "2022-06-22T12:33:28.196Z"
   },
   {
    "duration": 3,
    "start_time": "2022-06-22T12:33:29.672Z"
   },
   {
    "duration": 79,
    "start_time": "2022-06-22T12:33:29.678Z"
   },
   {
    "duration": 3,
    "start_time": "2022-06-22T12:33:29.760Z"
   },
   {
    "duration": 15,
    "start_time": "2022-06-22T12:33:29.766Z"
   },
   {
    "duration": 13,
    "start_time": "2022-06-22T12:33:29.783Z"
   },
   {
    "duration": 668,
    "start_time": "2022-06-22T12:33:29.798Z"
   },
   {
    "duration": 5,
    "start_time": "2022-06-22T12:33:30.468Z"
   },
   {
    "duration": 23,
    "start_time": "2022-06-22T12:33:30.475Z"
   },
   {
    "duration": 47,
    "start_time": "2022-06-22T12:33:30.501Z"
   },
   {
    "duration": 102,
    "start_time": "2022-06-22T12:33:30.550Z"
   },
   {
    "duration": 20,
    "start_time": "2022-06-22T12:33:30.654Z"
   },
   {
    "duration": 20,
    "start_time": "2022-06-22T12:33:30.676Z"
   },
   {
    "duration": 29,
    "start_time": "2022-06-22T12:33:30.699Z"
   },
   {
    "duration": 21,
    "start_time": "2022-06-22T12:33:30.730Z"
   },
   {
    "duration": 354,
    "start_time": "2022-06-22T12:33:30.753Z"
   },
   {
    "duration": 8,
    "start_time": "2022-06-22T12:33:31.109Z"
   },
   {
    "duration": 35,
    "start_time": "2022-06-22T12:33:31.120Z"
   },
   {
    "duration": 927,
    "start_time": "2022-06-22T12:33:31.157Z"
   },
   {
    "duration": 5,
    "start_time": "2022-06-22T12:33:32.086Z"
   },
   {
    "duration": 46,
    "start_time": "2022-06-22T12:33:32.093Z"
   },
   {
    "duration": 48,
    "start_time": "2022-06-22T12:33:32.141Z"
   },
   {
    "duration": 8,
    "start_time": "2022-06-22T12:33:32.192Z"
   },
   {
    "duration": 11,
    "start_time": "2022-06-22T12:33:32.202Z"
   },
   {
    "duration": 47,
    "start_time": "2022-06-22T12:33:32.216Z"
   },
   {
    "duration": 40,
    "start_time": "2022-06-22T12:33:32.265Z"
   },
   {
    "duration": 23,
    "start_time": "2022-06-22T12:33:32.307Z"
   },
   {
    "duration": 40,
    "start_time": "2022-06-22T12:33:32.332Z"
   },
   {
    "duration": 12,
    "start_time": "2022-06-22T12:33:32.374Z"
   },
   {
    "duration": 24,
    "start_time": "2022-06-22T12:33:32.388Z"
   },
   {
    "duration": 11,
    "start_time": "2022-06-22T12:33:32.414Z"
   },
   {
    "duration": 27,
    "start_time": "2022-06-22T12:33:32.427Z"
   },
   {
    "duration": 10172,
    "start_time": "2022-06-22T12:33:32.456Z"
   },
   {
    "duration": 11,
    "start_time": "2022-06-22T12:33:42.630Z"
   },
   {
    "duration": 9,
    "start_time": "2022-06-22T12:33:42.643Z"
   },
   {
    "duration": 7,
    "start_time": "2022-06-22T12:33:42.654Z"
   },
   {
    "duration": 89,
    "start_time": "2022-06-22T12:33:42.663Z"
   },
   {
    "duration": 108,
    "start_time": "2022-06-22T12:33:42.754Z"
   },
   {
    "duration": 96,
    "start_time": "2022-06-22T12:33:42.864Z"
   },
   {
    "duration": 117,
    "start_time": "2022-06-22T12:33:42.962Z"
   },
   {
    "duration": 27,
    "start_time": "2022-06-22T12:33:43.082Z"
   },
   {
    "duration": 10,
    "start_time": "2022-06-22T12:33:43.111Z"
   },
   {
    "duration": 38,
    "start_time": "2022-06-22T12:33:43.123Z"
   },
   {
    "duration": 28,
    "start_time": "2022-06-22T12:33:43.162Z"
   },
   {
    "duration": 12023,
    "start_time": "2022-06-22T12:33:43.192Z"
   },
   {
    "duration": 8,
    "start_time": "2022-06-22T12:33:55.220Z"
   },
   {
    "duration": 23,
    "start_time": "2022-06-22T12:33:55.230Z"
   },
   {
    "duration": 30,
    "start_time": "2022-06-22T12:33:55.255Z"
   },
   {
    "duration": 193,
    "start_time": "2022-06-22T12:33:55.287Z"
   },
   {
    "duration": 176,
    "start_time": "2022-06-22T12:33:55.482Z"
   },
   {
    "duration": 4,
    "start_time": "2022-06-22T12:37:38.810Z"
   },
   {
    "duration": 1510,
    "start_time": "2022-06-22T12:38:05.131Z"
   },
   {
    "duration": 3,
    "start_time": "2022-06-22T12:38:06.642Z"
   },
   {
    "duration": 52,
    "start_time": "2022-06-22T12:38:06.647Z"
   },
   {
    "duration": 5,
    "start_time": "2022-06-22T12:38:06.702Z"
   },
   {
    "duration": 19,
    "start_time": "2022-06-22T12:38:06.708Z"
   },
   {
    "duration": 22,
    "start_time": "2022-06-22T12:38:06.729Z"
   },
   {
    "duration": 11,
    "start_time": "2022-06-22T12:38:06.752Z"
   },
   {
    "duration": 687,
    "start_time": "2022-06-22T12:38:06.765Z"
   },
   {
    "duration": 5,
    "start_time": "2022-06-22T12:38:07.453Z"
   },
   {
    "duration": 19,
    "start_time": "2022-06-22T12:38:07.462Z"
   },
   {
    "duration": 91,
    "start_time": "2022-06-22T12:38:07.483Z"
   },
   {
    "duration": 4,
    "start_time": "2022-06-22T12:38:07.576Z"
   },
   {
    "duration": 15,
    "start_time": "2022-06-22T12:38:07.581Z"
   },
   {
    "duration": 4,
    "start_time": "2022-06-22T12:38:07.599Z"
   },
   {
    "duration": 9,
    "start_time": "2022-06-22T12:38:07.605Z"
   },
   {
    "duration": 5,
    "start_time": "2022-06-22T12:38:07.616Z"
   },
   {
    "duration": 349,
    "start_time": "2022-06-22T12:38:07.623Z"
   },
   {
    "duration": 6,
    "start_time": "2022-06-22T12:38:07.974Z"
   },
   {
    "duration": 9,
    "start_time": "2022-06-22T12:38:07.981Z"
   },
   {
    "duration": 831,
    "start_time": "2022-06-22T12:38:07.991Z"
   },
   {
    "duration": 4,
    "start_time": "2022-06-22T12:38:08.823Z"
   },
   {
    "duration": 35,
    "start_time": "2022-06-22T12:38:08.829Z"
   },
   {
    "duration": 25,
    "start_time": "2022-06-22T12:38:08.867Z"
   },
   {
    "duration": 7,
    "start_time": "2022-06-22T12:38:08.894Z"
   },
   {
    "duration": 8,
    "start_time": "2022-06-22T12:38:08.903Z"
   },
   {
    "duration": 48,
    "start_time": "2022-06-22T12:38:08.913Z"
   },
   {
    "duration": 36,
    "start_time": "2022-06-22T12:38:08.963Z"
   },
   {
    "duration": 13,
    "start_time": "2022-06-22T12:38:09.004Z"
   },
   {
    "duration": 50,
    "start_time": "2022-06-22T12:38:09.019Z"
   },
   {
    "duration": 9,
    "start_time": "2022-06-22T12:38:09.071Z"
   },
   {
    "duration": 18,
    "start_time": "2022-06-22T12:38:09.082Z"
   },
   {
    "duration": 12,
    "start_time": "2022-06-22T12:38:09.102Z"
   },
   {
    "duration": 7,
    "start_time": "2022-06-22T12:38:09.116Z"
   },
   {
    "duration": 9766,
    "start_time": "2022-06-22T12:38:09.125Z"
   },
   {
    "duration": 8,
    "start_time": "2022-06-22T12:38:18.893Z"
   },
   {
    "duration": 10,
    "start_time": "2022-06-22T12:38:18.902Z"
   },
   {
    "duration": 7,
    "start_time": "2022-06-22T12:38:18.914Z"
   },
   {
    "duration": 143,
    "start_time": "2022-06-22T12:38:18.923Z"
   },
   {
    "duration": 100,
    "start_time": "2022-06-22T12:38:19.153Z"
   },
   {
    "duration": 97,
    "start_time": "2022-06-22T12:38:19.256Z"
   },
   {
    "duration": 17,
    "start_time": "2022-06-22T12:38:19.355Z"
   },
   {
    "duration": 8,
    "start_time": "2022-06-22T12:38:19.373Z"
   },
   {
    "duration": 9,
    "start_time": "2022-06-22T12:38:19.382Z"
   },
   {
    "duration": 60,
    "start_time": "2022-06-22T12:38:19.392Z"
   },
   {
    "duration": 9,
    "start_time": "2022-06-22T12:38:19.454Z"
   },
   {
    "duration": 11875,
    "start_time": "2022-06-22T12:38:19.466Z"
   },
   {
    "duration": 14,
    "start_time": "2022-06-22T12:38:31.343Z"
   },
   {
    "duration": 24,
    "start_time": "2022-06-22T12:38:31.360Z"
   },
   {
    "duration": 35,
    "start_time": "2022-06-22T12:38:31.386Z"
   },
   {
    "duration": 130,
    "start_time": "2022-06-22T12:38:31.423Z"
   },
   {
    "duration": 206,
    "start_time": "2022-06-22T12:38:31.555Z"
   },
   {
    "duration": 101,
    "start_time": "2022-06-22T13:03:00.418Z"
   },
   {
    "duration": 84,
    "start_time": "2022-06-25T22:54:52.633Z"
   }
  ],
  "kernelspec": {
   "display_name": "Python 3 (ipykernel)",
   "language": "python",
   "name": "python3"
  },
  "language_info": {
   "codemirror_mode": {
    "name": "ipython",
    "version": 3
   },
   "file_extension": ".py",
   "mimetype": "text/x-python",
   "name": "python",
   "nbconvert_exporter": "python",
   "pygments_lexer": "ipython3",
   "version": "3.9.5"
  },
  "toc": {
   "base_numbering": 1,
   "nav_menu": {},
   "number_sections": true,
   "sideBar": true,
   "skip_h1_title": true,
   "title_cell": "Table of Contents",
   "title_sidebar": "Contents",
   "toc_cell": true,
   "toc_position": {
    "height": "calc(100% - 180px)",
    "left": "10px",
    "top": "150px",
    "width": "256px"
   },
   "toc_section_display": true,
   "toc_window_display": true
  }
 },
 "nbformat": 4,
 "nbformat_minor": 5
}
